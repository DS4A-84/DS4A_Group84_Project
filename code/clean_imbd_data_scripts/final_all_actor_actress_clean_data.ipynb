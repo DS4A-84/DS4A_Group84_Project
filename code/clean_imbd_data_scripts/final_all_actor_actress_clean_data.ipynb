{
 "cells": [
  {
   "cell_type": "code",
   "execution_count": 10,
   "metadata": {},
   "outputs": [],
   "source": [
    "import pandas as pd\n",
    "from os import path\n",
    "import numpy as np"
   ]
  },
  {
   "cell_type": "code",
   "execution_count": 29,
   "metadata": {},
   "outputs": [],
   "source": [
    "name_title_processed_path='../../data/imbd_data/name_title_processed.csv'\n",
    "name_title_degree = '../../data/imbd_data/name_title_degree_data.csv'\n",
    "name_title_degree_clean = '../../data/imbd_data/name_title_degree_clean.csv'"
   ]
  },
  {
   "cell_type": "code",
   "execution_count": 12,
   "metadata": {},
   "outputs": [],
   "source": [
    "def load_dataset(filepath):\n",
    "    df = pd.read_csv(filepath)\n",
    "    return df\n",
    "\n",
    "\n",
    "\n",
    "def write_to_csv(df,filepath):\n",
    "    '''\n",
    "    input: df - a pandas DataFrame\n",
    "           filepath - an output filepath as a string\n",
    "\n",
    "    writes to a csv file\n",
    "    in same diretory as this script\n",
    "\n",
    "    returns: nothing\n",
    "    '''\n",
    "    # if no csv exists\n",
    "    if not path.exists(filepath):\n",
    "        df.to_csv(filepath,index=False)\n",
    "    else:\n",
    "        df.to_csv(filepath, mode='a', header=False,index=False)"
   ]
  },
  {
   "cell_type": "code",
   "execution_count": 13,
   "metadata": {},
   "outputs": [],
   "source": [
    "# load data\n",
    "people_df = load_dataset(name_title_processed_path)\n",
    "name_title_degree_df = load_dataset(name_title_degree)"
   ]
  },
  {
   "cell_type": "code",
   "execution_count": 14,
   "metadata": {},
   "outputs": [
    {
     "name": "stdout",
     "output_type": "stream",
     "text": [
      "      nconst     tconst          name  birthYear  deathYear category  \\\n",
      "0  nm0000001  tt0025164  Fred Astaire       1899     1987.0    actor   \n",
      "1  nm0000001  tt0026942  Fred Astaire       1899     1987.0    actor   \n",
      "2  nm0000001  tt0027125  Fred Astaire       1899     1987.0    actor   \n",
      "3  nm0000001  tt0027630  Fred Astaire       1899     1987.0    actor   \n",
      "4  nm0000001  tt0028333  Fred Astaire       1899     1987.0    actor   \n",
      "\n",
      "       primaryTitle     originalTitle  film_year gender  age  degree    year  \n",
      "0  The Gay Divorcee  The Gay Divorcee       1934      M   35     3.0  1934.0  \n",
      "1           Roberta           Roberta       1935      M   36     6.0  1935.0  \n",
      "2           Top Hat           Top Hat       1935      M   36     6.0  1935.0  \n",
      "3  Follow the Fleet  Follow the Fleet       1936      M   37     9.0  1936.0  \n",
      "4        Swing Time        Swing Time       1936      M   37     9.0  1936.0  \n",
      "9477177\n",
      "9477183\n"
     ]
    }
   ],
   "source": [
    "print(name_title_degree_df.head())\n",
    "print(len(people_df[people_df.film_year>=1892]))\n",
    "print(len(name_title_degree_df))"
   ]
  },
  {
   "cell_type": "code",
   "execution_count": 25,
   "metadata": {},
   "outputs": [
    {
     "name": "stdout",
     "output_type": "stream",
     "text": [
      "5\n"
     ]
    }
   ],
   "source": [
    "# include only people after 1892 where edges are available\n",
    "name_title_degree_df = name_title_degree_df[name_title_degree_df.film_year>=1892]\n",
    "name_title_degree_df = name_title_degree_df[name_title_degree_df.film_year<=2021]\n",
    "\n",
    "\n",
    "\n",
    "#ensure floats are ints\n",
    "name_title_degree_df.degree = name_title_degree_df.degree.astype(int)\n",
    "\n",
    "#include only columns of interest\n",
    "name_title_degree_df = name_title_degree_df[['nconst', 'tconst', 'name', \n",
    "                                             'birthYear', 'deathYear', 'category',\n",
    "                                             'primaryTitle', 'originalTitle', 'film_year', \n",
    "                                             'gender', 'age', 'degree']]\n",
    "\n",
    "print(len(name_title_degree_df.head()))"
   ]
  },
  {
   "cell_type": "code",
   "execution_count": 26,
   "metadata": {},
   "outputs": [
    {
     "data": {
      "text/html": [
       "<div>\n",
       "<style scoped>\n",
       "    .dataframe tbody tr th:only-of-type {\n",
       "        vertical-align: middle;\n",
       "    }\n",
       "\n",
       "    .dataframe tbody tr th {\n",
       "        vertical-align: top;\n",
       "    }\n",
       "\n",
       "    .dataframe thead th {\n",
       "        text-align: right;\n",
       "    }\n",
       "</style>\n",
       "<table border=\"1\" class=\"dataframe\">\n",
       "  <thead>\n",
       "    <tr style=\"text-align: right;\">\n",
       "      <th></th>\n",
       "      <th>nconst</th>\n",
       "      <th>tconst</th>\n",
       "      <th>name</th>\n",
       "      <th>birthYear</th>\n",
       "      <th>deathYear</th>\n",
       "      <th>category</th>\n",
       "      <th>primaryTitle</th>\n",
       "      <th>originalTitle</th>\n",
       "      <th>film_year</th>\n",
       "      <th>gender</th>\n",
       "      <th>age</th>\n",
       "      <th>degree</th>\n",
       "    </tr>\n",
       "  </thead>\n",
       "  <tbody>\n",
       "    <tr>\n",
       "      <th>0</th>\n",
       "      <td>nm0000001</td>\n",
       "      <td>tt0025164</td>\n",
       "      <td>Fred Astaire</td>\n",
       "      <td>1899</td>\n",
       "      <td>1987.0</td>\n",
       "      <td>actor</td>\n",
       "      <td>The Gay Divorcee</td>\n",
       "      <td>The Gay Divorcee</td>\n",
       "      <td>1934</td>\n",
       "      <td>M</td>\n",
       "      <td>35</td>\n",
       "      <td>3</td>\n",
       "    </tr>\n",
       "    <tr>\n",
       "      <th>1</th>\n",
       "      <td>nm0000001</td>\n",
       "      <td>tt0026942</td>\n",
       "      <td>Fred Astaire</td>\n",
       "      <td>1899</td>\n",
       "      <td>1987.0</td>\n",
       "      <td>actor</td>\n",
       "      <td>Roberta</td>\n",
       "      <td>Roberta</td>\n",
       "      <td>1935</td>\n",
       "      <td>M</td>\n",
       "      <td>36</td>\n",
       "      <td>6</td>\n",
       "    </tr>\n",
       "    <tr>\n",
       "      <th>2</th>\n",
       "      <td>nm0000001</td>\n",
       "      <td>tt0027125</td>\n",
       "      <td>Fred Astaire</td>\n",
       "      <td>1899</td>\n",
       "      <td>1987.0</td>\n",
       "      <td>actor</td>\n",
       "      <td>Top Hat</td>\n",
       "      <td>Top Hat</td>\n",
       "      <td>1935</td>\n",
       "      <td>M</td>\n",
       "      <td>36</td>\n",
       "      <td>6</td>\n",
       "    </tr>\n",
       "    <tr>\n",
       "      <th>3</th>\n",
       "      <td>nm0000001</td>\n",
       "      <td>tt0027630</td>\n",
       "      <td>Fred Astaire</td>\n",
       "      <td>1899</td>\n",
       "      <td>1987.0</td>\n",
       "      <td>actor</td>\n",
       "      <td>Follow the Fleet</td>\n",
       "      <td>Follow the Fleet</td>\n",
       "      <td>1936</td>\n",
       "      <td>M</td>\n",
       "      <td>37</td>\n",
       "      <td>9</td>\n",
       "    </tr>\n",
       "    <tr>\n",
       "      <th>4</th>\n",
       "      <td>nm0000001</td>\n",
       "      <td>tt0028333</td>\n",
       "      <td>Fred Astaire</td>\n",
       "      <td>1899</td>\n",
       "      <td>1987.0</td>\n",
       "      <td>actor</td>\n",
       "      <td>Swing Time</td>\n",
       "      <td>Swing Time</td>\n",
       "      <td>1936</td>\n",
       "      <td>M</td>\n",
       "      <td>37</td>\n",
       "      <td>9</td>\n",
       "    </tr>\n",
       "  </tbody>\n",
       "</table>\n",
       "</div>"
      ],
      "text/plain": [
       "      nconst     tconst          name  birthYear  deathYear category  \\\n",
       "0  nm0000001  tt0025164  Fred Astaire       1899     1987.0    actor   \n",
       "1  nm0000001  tt0026942  Fred Astaire       1899     1987.0    actor   \n",
       "2  nm0000001  tt0027125  Fred Astaire       1899     1987.0    actor   \n",
       "3  nm0000001  tt0027630  Fred Astaire       1899     1987.0    actor   \n",
       "4  nm0000001  tt0028333  Fred Astaire       1899     1987.0    actor   \n",
       "\n",
       "       primaryTitle     originalTitle  film_year gender  age  degree  \n",
       "0  The Gay Divorcee  The Gay Divorcee       1934      M   35       3  \n",
       "1           Roberta           Roberta       1935      M   36       6  \n",
       "2           Top Hat           Top Hat       1935      M   36       6  \n",
       "3  Follow the Fleet  Follow the Fleet       1936      M   37       9  \n",
       "4        Swing Time        Swing Time       1936      M   37       9  "
      ]
     },
     "execution_count": 26,
     "metadata": {},
     "output_type": "execute_result"
    }
   ],
   "source": [
    "name_title_degree_df.head()"
   ]
  },
  {
   "cell_type": "code",
   "execution_count": 27,
   "metadata": {},
   "outputs": [
    {
     "data": {
      "text/plain": [
       "Index(['nconst', 'tconst', 'name', 'birthYear', 'deathYear', 'category',\n",
       "       'primaryTitle', 'originalTitle', 'film_year', 'gender', 'age',\n",
       "       'degree'],\n",
       "      dtype='object')"
      ]
     },
     "execution_count": 27,
     "metadata": {},
     "output_type": "execute_result"
    }
   ],
   "source": [
    "name_title_degree_df.columns"
   ]
  },
  {
   "cell_type": "code",
   "execution_count": 28,
   "metadata": {},
   "outputs": [
    {
     "name": "stdout",
     "output_type": "stream",
     "text": [
      "          nconst     tconst            name  birthYear  deathYear category  \\\n",
      "13304  nm0000151  tt0066651  Morgan Freeman       1937        NaN    actor   \n",
      "13305  nm0000151  tt0079379  Morgan Freeman       1937        NaN    actor   \n",
      "13306  nm0000151  tt0080392  Morgan Freeman       1937        NaN    actor   \n",
      "13307  nm0000151  tt0080474  Morgan Freeman       1937        NaN    actor   \n",
      "13308  nm0000151  tt0082719  Morgan Freeman       1937        NaN    actor   \n",
      "...          ...        ...             ...        ...        ...      ...   \n",
      "14082  nm0000151  tt5721088  Morgan Freeman       1937        NaN    actor   \n",
      "14083  nm0000151  tt5852632  Morgan Freeman       1937        NaN    actor   \n",
      "14084  nm0000151  tt5862166  Morgan Freeman       1937        NaN    actor   \n",
      "14086  nm0000151  tt6583530  Morgan Freeman       1937        NaN    actor   \n",
      "14087  nm0000151  tt6648926  Morgan Freeman       1937        NaN    actor   \n",
      "\n",
      "                                            primaryTitle  \\\n",
      "13304                               The Electric Company   \n",
      "13305                                      Julius Caesar   \n",
      "13306                                             Attica   \n",
      "13307                                           Brubaker   \n",
      "13308                            The Marva Collins Story   \n",
      "...                                                  ...   \n",
      "14082                               Just Getting Started   \n",
      "14083             March of the Penguins 2: The Next Step   \n",
      "14084                                    The Poison Rose   \n",
      "14086   Panama Canal in 3D a Land Divided a World United   \n",
      "14087  The Age of Spin: Dave Chappelle Live at the Ho...   \n",
      "\n",
      "                                           originalTitle  film_year gender  \\\n",
      "13304                               The Electric Company       1971      M   \n",
      "13305                                      Julius Caesar       1979      M   \n",
      "13306                                             Attica       1980      M   \n",
      "13307                                           Brubaker       1980      M   \n",
      "13308                            The Marva Collins Story       1981      M   \n",
      "...                                                  ...        ...    ...   \n",
      "14082                               Just Getting Started       2017      M   \n",
      "14083                                         L'empereur       2017      M   \n",
      "14084                                    The Poison Rose       2019      M   \n",
      "14086   Panama Canal in 3D a Land Divided a World United       2019      M   \n",
      "14087  The Age of Spin: Dave Chappelle Live at the Ho...       2017      M   \n",
      "\n",
      "       age  degree  \n",
      "13304   34      18  \n",
      "13305   42      25  \n",
      "13306   43      31  \n",
      "13307   43      31  \n",
      "13308   44      40  \n",
      "...    ...     ...  \n",
      "14082   80     233  \n",
      "14083   80     233  \n",
      "14084   82     238  \n",
      "14086   82     238  \n",
      "14087   80     233  \n",
      "\n",
      "[774 rows x 12 columns]\n"
     ]
    }
   ],
   "source": [
    "print(name_title_degree_df[name_title_degree_df['name'].isin(['Morgan Freeman'])])"
   ]
  },
  {
   "cell_type": "code",
   "execution_count": 30,
   "metadata": {},
   "outputs": [],
   "source": [
    "write_to_csv(name_title_degree_df,name_title_degree_clean)"
   ]
  },
  {
   "cell_type": "code",
   "execution_count": null,
   "metadata": {},
   "outputs": [],
   "source": [
    " "
   ]
  }
 ],
 "metadata": {
  "kernelspec": {
   "display_name": "Python 3",
   "language": "python",
   "name": "python3"
  },
  "language_info": {
   "codemirror_mode": {
    "name": "ipython",
    "version": 3
   },
   "file_extension": ".py",
   "mimetype": "text/x-python",
   "name": "python",
   "nbconvert_exporter": "python",
   "pygments_lexer": "ipython3",
   "version": "3.8.5"
  }
 },
 "nbformat": 4,
 "nbformat_minor": 4
}
