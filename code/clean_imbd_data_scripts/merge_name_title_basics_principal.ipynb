{
 "cells": [
  {
   "cell_type": "code",
   "execution_count": 1,
   "metadata": {},
   "outputs": [],
   "source": [
    "import pandas as pd\n",
    "from os import path\n",
    "import numpy as np"
   ]
  },
  {
   "cell_type": "code",
   "execution_count": 2,
   "metadata": {},
   "outputs": [],
   "source": [
    "name_basics_processed_path='../../data/imbd_data/name_basics_processed.csv'\n",
    "title_basics_processed_path='../../data/imbd_data/title_basics_processed.csv'\n",
    "title_principals_processed_path='../../data/imbd_data/title_principals_processed.csv'\n",
    "name_title_processed_path='../../data/imbd_data/name_title_processed.csv'"
   ]
  },
  {
   "cell_type": "code",
   "execution_count": 3,
   "metadata": {},
   "outputs": [],
   "source": [
    "def write_to_csv(df,filepath):\n",
    "    '''\n",
    "    input: df - a pandas DataFrame\n",
    "           filepath - an output filepath as a string\n",
    "\n",
    "    writes to a csv file\n",
    "    in same diretory as this script\n",
    "\n",
    "    returns: nothing\n",
    "    '''\n",
    "    # if no csv exists\n",
    "    if not path.exists(filepath):\n",
    "        df.to_csv(filepath,index=False)\n",
    "    else:\n",
    "        df.to_csv(filepath, mode='a', header=False,index=False)"
   ]
  },
  {
   "cell_type": "code",
   "execution_count": 4,
   "metadata": {},
   "outputs": [],
   "source": [
    "def load_dataset(filepath):\n",
    "    df = pd.read_csv(filepath)\n",
    "    return df\n"
   ]
  },
  {
   "cell_type": "code",
   "execution_count": 5,
   "metadata": {},
   "outputs": [],
   "source": [
    "names_df = load_dataset(name_basics_processed_path)\n",
    "title_df = load_dataset(title_basics_processed_path)\n",
    "title_p_df = load_dataset(title_principals_processed_path)"
   ]
  },
  {
   "cell_type": "code",
   "execution_count": 6,
   "metadata": {},
   "outputs": [
    {
     "name": "stdout",
     "output_type": "stream",
     "text": [
      "        nconst     primaryName  birthYear  deathYear\n",
      "148  nm0000151  Morgan Freeman       1937        NaN\n"
     ]
    }
   ],
   "source": [
    "names_df.head()\n",
    "print(names_df[names_df['primaryName'].isin(['Morgan Freeman'])])"
   ]
  },
  {
   "cell_type": "code",
   "execution_count": 7,
   "metadata": {},
   "outputs": [
    {
     "data": {
      "text/html": [
       "<div>\n",
       "<style scoped>\n",
       "    .dataframe tbody tr th:only-of-type {\n",
       "        vertical-align: middle;\n",
       "    }\n",
       "\n",
       "    .dataframe tbody tr th {\n",
       "        vertical-align: top;\n",
       "    }\n",
       "\n",
       "    .dataframe thead th {\n",
       "        text-align: right;\n",
       "    }\n",
       "</style>\n",
       "<table border=\"1\" class=\"dataframe\">\n",
       "  <thead>\n",
       "    <tr style=\"text-align: right;\">\n",
       "      <th></th>\n",
       "      <th>tconst</th>\n",
       "      <th>nconst</th>\n",
       "      <th>category</th>\n",
       "    </tr>\n",
       "  </thead>\n",
       "  <tbody>\n",
       "    <tr>\n",
       "      <th>0</th>\n",
       "      <td>tt0000005</td>\n",
       "      <td>nm0443482</td>\n",
       "      <td>actor</td>\n",
       "    </tr>\n",
       "    <tr>\n",
       "      <th>1</th>\n",
       "      <td>tt0000005</td>\n",
       "      <td>nm0653042</td>\n",
       "      <td>actor</td>\n",
       "    </tr>\n",
       "    <tr>\n",
       "      <th>2</th>\n",
       "      <td>tt0000007</td>\n",
       "      <td>nm0179163</td>\n",
       "      <td>actor</td>\n",
       "    </tr>\n",
       "    <tr>\n",
       "      <th>3</th>\n",
       "      <td>tt0000007</td>\n",
       "      <td>nm0183947</td>\n",
       "      <td>actor</td>\n",
       "    </tr>\n",
       "    <tr>\n",
       "      <th>4</th>\n",
       "      <td>tt0000008</td>\n",
       "      <td>nm0653028</td>\n",
       "      <td>actor</td>\n",
       "    </tr>\n",
       "  </tbody>\n",
       "</table>\n",
       "</div>"
      ],
      "text/plain": [
       "      tconst     nconst category\n",
       "0  tt0000005  nm0443482    actor\n",
       "1  tt0000005  nm0653042    actor\n",
       "2  tt0000007  nm0179163    actor\n",
       "3  tt0000007  nm0183947    actor\n",
       "4  tt0000008  nm0653028    actor"
      ]
     },
     "execution_count": 7,
     "metadata": {},
     "output_type": "execute_result"
    }
   ],
   "source": [
    "title_p_df.head()"
   ]
  },
  {
   "cell_type": "code",
   "execution_count": 8,
   "metadata": {},
   "outputs": [
    {
     "data": {
      "text/html": [
       "<div>\n",
       "<style scoped>\n",
       "    .dataframe tbody tr th:only-of-type {\n",
       "        vertical-align: middle;\n",
       "    }\n",
       "\n",
       "    .dataframe tbody tr th {\n",
       "        vertical-align: top;\n",
       "    }\n",
       "\n",
       "    .dataframe thead th {\n",
       "        text-align: right;\n",
       "    }\n",
       "</style>\n",
       "<table border=\"1\" class=\"dataframe\">\n",
       "  <thead>\n",
       "    <tr style=\"text-align: right;\">\n",
       "      <th></th>\n",
       "      <th>tconst</th>\n",
       "      <th>primaryTitle</th>\n",
       "      <th>originalTitle</th>\n",
       "      <th>startYear</th>\n",
       "    </tr>\n",
       "  </thead>\n",
       "  <tbody>\n",
       "    <tr>\n",
       "      <th>0</th>\n",
       "      <td>tt0000001</td>\n",
       "      <td>Carmencita</td>\n",
       "      <td>Carmencita</td>\n",
       "      <td>1894</td>\n",
       "    </tr>\n",
       "    <tr>\n",
       "      <th>1</th>\n",
       "      <td>tt0000002</td>\n",
       "      <td>Le clown et ses chiens</td>\n",
       "      <td>Le clown et ses chiens</td>\n",
       "      <td>1892</td>\n",
       "    </tr>\n",
       "    <tr>\n",
       "      <th>2</th>\n",
       "      <td>tt0000003</td>\n",
       "      <td>Pauvre Pierrot</td>\n",
       "      <td>Pauvre Pierrot</td>\n",
       "      <td>1892</td>\n",
       "    </tr>\n",
       "    <tr>\n",
       "      <th>3</th>\n",
       "      <td>tt0000004</td>\n",
       "      <td>Un bon bock</td>\n",
       "      <td>Un bon bock</td>\n",
       "      <td>1892</td>\n",
       "    </tr>\n",
       "    <tr>\n",
       "      <th>4</th>\n",
       "      <td>tt0000005</td>\n",
       "      <td>Blacksmith Scene</td>\n",
       "      <td>Blacksmith Scene</td>\n",
       "      <td>1893</td>\n",
       "    </tr>\n",
       "  </tbody>\n",
       "</table>\n",
       "</div>"
      ],
      "text/plain": [
       "      tconst            primaryTitle           originalTitle  startYear\n",
       "0  tt0000001              Carmencita              Carmencita       1894\n",
       "1  tt0000002  Le clown et ses chiens  Le clown et ses chiens       1892\n",
       "2  tt0000003          Pauvre Pierrot          Pauvre Pierrot       1892\n",
       "3  tt0000004             Un bon bock             Un bon bock       1892\n",
       "4  tt0000005        Blacksmith Scene        Blacksmith Scene       1893"
      ]
     },
     "execution_count": 8,
     "metadata": {},
     "output_type": "execute_result"
    }
   ],
   "source": [
    "title_df.head()"
   ]
  },
  {
   "cell_type": "code",
   "execution_count": 9,
   "metadata": {},
   "outputs": [
    {
     "name": "stdout",
     "output_type": "stream",
     "text": [
      "<class 'pandas.core.frame.DataFrame'>\n",
      "RangeIndex: 531160 entries, 0 to 531159\n",
      "Data columns (total 4 columns):\n",
      " #   Column       Non-Null Count   Dtype  \n",
      "---  ------       --------------   -----  \n",
      " 0   nconst       531160 non-null  object \n",
      " 1   primaryName  531160 non-null  object \n",
      " 2   birthYear    531160 non-null  int64  \n",
      " 3   deathYear    181393 non-null  float64\n",
      "dtypes: float64(1), int64(1), object(2)\n",
      "memory usage: 16.2+ MB\n",
      "None\n",
      "<class 'pandas.core.frame.DataFrame'>\n",
      "RangeIndex: 7195169 entries, 0 to 7195168\n",
      "Data columns (total 4 columns):\n",
      " #   Column         Dtype \n",
      "---  ------         ----- \n",
      " 0   tconst         object\n",
      " 1   primaryTitle   object\n",
      " 2   originalTitle  object\n",
      " 3   startYear      int64 \n",
      "dtypes: int64(1), object(3)\n",
      "memory usage: 219.6+ MB\n",
      "None\n"
     ]
    }
   ],
   "source": [
    "print(names_df.info())\n",
    "print(title_df.info())"
   ]
  },
  {
   "cell_type": "code",
   "execution_count": 12,
   "metadata": {},
   "outputs": [],
   "source": [
    "# merge names with title dataframe\n",
    "df = names_df.merge(title_p_df, \n",
    "                    left_on=['nconst'], \n",
    "                    right_on=['nconst'], how='left')"
   ]
  },
  {
   "cell_type": "code",
   "execution_count": 13,
   "metadata": {},
   "outputs": [
    {
     "name": "stdout",
     "output_type": "stream",
     "text": [
      "      nconst   primaryName  birthYear  deathYear     tconst category\n",
      "0  nm0000001  Fred Astaire       1899     1987.0  tt0025164    actor\n",
      "1  nm0000001  Fred Astaire       1899     1987.0  tt0026942    actor\n",
      "2  nm0000001  Fred Astaire       1899     1987.0  tt0027125    actor\n",
      "3  nm0000001  Fred Astaire       1899     1987.0  tt0027630    actor\n",
      "4  nm0000001  Fred Astaire       1899     1987.0  tt0028333    actor\n",
      "          nconst     primaryName  birthYear  deathYear     tconst category\n",
      "13587  nm0000151  Morgan Freeman       1937        NaN  tt0066651    actor\n",
      "13588  nm0000151  Morgan Freeman       1937        NaN  tt0079379    actor\n",
      "13589  nm0000151  Morgan Freeman       1937        NaN  tt0080392    actor\n",
      "13590  nm0000151  Morgan Freeman       1937        NaN  tt0080474    actor\n",
      "13591  nm0000151  Morgan Freeman       1937        NaN  tt0082719    actor\n",
      "...          ...             ...        ...        ...        ...      ...\n",
      "14370  nm0000151  Morgan Freeman       1937        NaN  tt5862166    actor\n",
      "14371  nm0000151  Morgan Freeman       1937        NaN  tt5932368    actor\n",
      "14372  nm0000151  Morgan Freeman       1937        NaN  tt6583530    actor\n",
      "14373  nm0000151  Morgan Freeman       1937        NaN  tt6648926    actor\n",
      "14374  nm0000151  Morgan Freeman       1937        NaN  tt7469828    actor\n",
      "\n",
      "[788 rows x 6 columns]\n"
     ]
    }
   ],
   "source": [
    "print(df.head())\n",
    "print(df[df['primaryName'].isin(['Morgan Freeman'])])"
   ]
  },
  {
   "cell_type": "code",
   "execution_count": 14,
   "metadata": {},
   "outputs": [],
   "source": [
    "# merge names with title dataframe\n",
    "df = df.merge(title_df, \n",
    "                    left_on=['tconst'], \n",
    "                    right_on=['tconst'], how='left')"
   ]
  },
  {
   "cell_type": "code",
   "execution_count": 15,
   "metadata": {},
   "outputs": [
    {
     "name": "stdout",
     "output_type": "stream",
     "text": [
      "      nconst   primaryName  birthYear  deathYear     tconst category  \\\n",
      "0  nm0000001  Fred Astaire       1899     1987.0  tt0025164    actor   \n",
      "1  nm0000001  Fred Astaire       1899     1987.0  tt0026942    actor   \n",
      "2  nm0000001  Fred Astaire       1899     1987.0  tt0027125    actor   \n",
      "3  nm0000001  Fred Astaire       1899     1987.0  tt0027630    actor   \n",
      "4  nm0000001  Fred Astaire       1899     1987.0  tt0028333    actor   \n",
      "\n",
      "       primaryTitle     originalTitle  startYear  \n",
      "0  The Gay Divorcee  The Gay Divorcee     1934.0  \n",
      "1           Roberta           Roberta     1935.0  \n",
      "2           Top Hat           Top Hat     1935.0  \n",
      "3  Follow the Fleet  Follow the Fleet     1936.0  \n",
      "4        Swing Time        Swing Time     1936.0  \n",
      "          nconst     primaryName  birthYear  deathYear     tconst category  \\\n",
      "13587  nm0000151  Morgan Freeman       1937        NaN  tt0066651    actor   \n",
      "13588  nm0000151  Morgan Freeman       1937        NaN  tt0079379    actor   \n",
      "13589  nm0000151  Morgan Freeman       1937        NaN  tt0080392    actor   \n",
      "13590  nm0000151  Morgan Freeman       1937        NaN  tt0080474    actor   \n",
      "13591  nm0000151  Morgan Freeman       1937        NaN  tt0082719    actor   \n",
      "...          ...             ...        ...        ...        ...      ...   \n",
      "14370  nm0000151  Morgan Freeman       1937        NaN  tt5862166    actor   \n",
      "14371  nm0000151  Morgan Freeman       1937        NaN  tt5932368    actor   \n",
      "14372  nm0000151  Morgan Freeman       1937        NaN  tt6583530    actor   \n",
      "14373  nm0000151  Morgan Freeman       1937        NaN  tt6648926    actor   \n",
      "14374  nm0000151  Morgan Freeman       1937        NaN  tt7469828    actor   \n",
      "\n",
      "                                            primaryTitle  \\\n",
      "13587                               The Electric Company   \n",
      "13588                                      Julius Caesar   \n",
      "13589                                             Attica   \n",
      "13590                                           Brubaker   \n",
      "13591                            The Marva Collins Story   \n",
      "...                                                  ...   \n",
      "14370                                    The Poison Rose   \n",
      "14371                                           Vanquish   \n",
      "14372   Panama Canal in 3D a Land Divided a World United   \n",
      "14373  The Age of Spin: Dave Chappelle Live at the Ho...   \n",
      "14374                                                NaN   \n",
      "\n",
      "                                           originalTitle  startYear  \n",
      "13587                               The Electric Company     1971.0  \n",
      "13588                                      Julius Caesar     1979.0  \n",
      "13589                                             Attica     1980.0  \n",
      "13590                                           Brubaker     1980.0  \n",
      "13591                            The Marva Collins Story     1981.0  \n",
      "...                                                  ...        ...  \n",
      "14370                                    The Poison Rose     2019.0  \n",
      "14371                                           Vanquish     2021.0  \n",
      "14372   Panama Canal in 3D a Land Divided a World United     2019.0  \n",
      "14373  The Age of Spin: Dave Chappelle Live at the Ho...     2017.0  \n",
      "14374                                                NaN        NaN  \n",
      "\n",
      "[788 rows x 9 columns]\n"
     ]
    }
   ],
   "source": [
    "print(df.head())\n",
    "print(df[df['primaryName'].isin(['Morgan Freeman'])])"
   ]
  },
  {
   "cell_type": "code",
   "execution_count": 16,
   "metadata": {},
   "outputs": [
    {
     "name": "stdout",
     "output_type": "stream",
     "text": [
      "Index(['name', 'birthYear', 'deathYear', 'category', 'primaryTitle',\n",
      "       'originalTitle', 'film_year'],\n",
      "      dtype='object')\n",
      "           name  birthYear  deathYear category      primaryTitle  \\\n",
      "0  Fred Astaire       1899     1987.0    actor  The Gay Divorcee   \n",
      "1  Fred Astaire       1899     1987.0    actor           Roberta   \n",
      "\n",
      "      originalTitle  film_year  \n",
      "0  The Gay Divorcee     1934.0  \n",
      "1           Roberta     1935.0  \n"
     ]
    }
   ],
   "source": [
    "\n",
    "\n",
    "df = df[['primaryName','birthYear','deathYear',\n",
    "         'category','primaryTitle','originalTitle',\n",
    "         'startYear']]\n",
    "\n",
    "df.columns = ['name','birthYear','deathYear',\n",
    "              'category','primaryTitle','originalTitle','film_year']\n",
    "\n",
    "print(df.columns)\n",
    "print(df.head(2))"
   ]
  },
  {
   "cell_type": "code",
   "execution_count": 17,
   "metadata": {},
   "outputs": [],
   "source": [
    "# create gender category\n",
    "df['gender'] = np.where(df['category']=='actor', 'M', 'F')"
   ]
  },
  {
   "cell_type": "code",
   "execution_count": 18,
   "metadata": {},
   "outputs": [
    {
     "name": "stdout",
     "output_type": "stream",
     "text": [
      "           name  birthYear  deathYear category      primaryTitle  \\\n",
      "0  Fred Astaire       1899     1987.0    actor  The Gay Divorcee   \n",
      "\n",
      "      originalTitle  film_year gender  \n",
      "0  The Gay Divorcee     1934.0      M  \n",
      "                 name  birthYear  deathYear category  \\\n",
      "13587  Morgan Freeman       1937        NaN    actor   \n",
      "13588  Morgan Freeman       1937        NaN    actor   \n",
      "13589  Morgan Freeman       1937        NaN    actor   \n",
      "13590  Morgan Freeman       1937        NaN    actor   \n",
      "13591  Morgan Freeman       1937        NaN    actor   \n",
      "...               ...        ...        ...      ...   \n",
      "14370  Morgan Freeman       1937        NaN    actor   \n",
      "14371  Morgan Freeman       1937        NaN    actor   \n",
      "14372  Morgan Freeman       1937        NaN    actor   \n",
      "14373  Morgan Freeman       1937        NaN    actor   \n",
      "14374  Morgan Freeman       1937        NaN    actor   \n",
      "\n",
      "                                            primaryTitle  \\\n",
      "13587                               The Electric Company   \n",
      "13588                                      Julius Caesar   \n",
      "13589                                             Attica   \n",
      "13590                                           Brubaker   \n",
      "13591                            The Marva Collins Story   \n",
      "...                                                  ...   \n",
      "14370                                    The Poison Rose   \n",
      "14371                                           Vanquish   \n",
      "14372   Panama Canal in 3D a Land Divided a World United   \n",
      "14373  The Age of Spin: Dave Chappelle Live at the Ho...   \n",
      "14374                                                NaN   \n",
      "\n",
      "                                           originalTitle  film_year gender  \n",
      "13587                               The Electric Company     1971.0      M  \n",
      "13588                                      Julius Caesar     1979.0      M  \n",
      "13589                                             Attica     1980.0      M  \n",
      "13590                                           Brubaker     1980.0      M  \n",
      "13591                            The Marva Collins Story     1981.0      M  \n",
      "...                                                  ...        ...    ...  \n",
      "14370                                    The Poison Rose     2019.0      M  \n",
      "14371                                           Vanquish     2021.0      M  \n",
      "14372   Panama Canal in 3D a Land Divided a World United     2019.0      M  \n",
      "14373  The Age of Spin: Dave Chappelle Live at the Ho...     2017.0      M  \n",
      "14374                                                NaN        NaN      M  \n",
      "\n",
      "[788 rows x 8 columns]\n"
     ]
    }
   ],
   "source": [
    "print(df.head(1))\n",
    "print(df[df['name'].isin(['Morgan Freeman'])])"
   ]
  },
  {
   "cell_type": "code",
   "execution_count": 19,
   "metadata": {},
   "outputs": [],
   "source": [
    "# only include rows with valid film_year\n",
    "df = df[df['film_year'].notna()]\n",
    "\n",
    "# make sure years are integers\n",
    "df.birthYear = df.birthYear.astype(int)\n",
    "df.film_year = df.film_year.astype(int)\n",
    "\n",
    "# create person age \n",
    "df['age'] = df.film_year-df.birthYear"
   ]
  },
  {
   "cell_type": "code",
   "execution_count": 20,
   "metadata": {},
   "outputs": [
    {
     "name": "stdout",
     "output_type": "stream",
     "text": [
      "           name  birthYear  deathYear category      primaryTitle  \\\n",
      "0  Fred Astaire       1899     1987.0    actor  The Gay Divorcee   \n",
      "\n",
      "      originalTitle  film_year gender  age  \n",
      "0  The Gay Divorcee       1934      M   35  \n",
      "9477183\n"
     ]
    }
   ],
   "source": [
    "print(df.head(1))\n",
    "print(len(df))"
   ]
  },
  {
   "cell_type": "code",
   "execution_count": 21,
   "metadata": {},
   "outputs": [
    {
     "name": "stdout",
     "output_type": "stream",
     "text": [
      "<class 'pandas.core.frame.DataFrame'>\n",
      "Int64Index: 9477183 entries, 0 to 10194518\n",
      "Data columns (total 9 columns):\n",
      " #   Column         Dtype  \n",
      "---  ------         -----  \n",
      " 0   name           object \n",
      " 1   birthYear      int32  \n",
      " 2   deathYear      float64\n",
      " 3   category       object \n",
      " 4   primaryTitle   object \n",
      " 5   originalTitle  object \n",
      " 6   film_year      int32  \n",
      " 7   gender         object \n",
      " 8   age            int32  \n",
      "dtypes: float64(1), int32(3), object(5)\n",
      "memory usage: 614.6+ MB\n",
      "None\n",
      "                 name  birthYear  deathYear category  \\\n",
      "13587  Morgan Freeman       1937        NaN    actor   \n",
      "13588  Morgan Freeman       1937        NaN    actor   \n",
      "13589  Morgan Freeman       1937        NaN    actor   \n",
      "13590  Morgan Freeman       1937        NaN    actor   \n",
      "13591  Morgan Freeman       1937        NaN    actor   \n",
      "...               ...        ...        ...      ...   \n",
      "14369  Morgan Freeman       1937        NaN    actor   \n",
      "14370  Morgan Freeman       1937        NaN    actor   \n",
      "14371  Morgan Freeman       1937        NaN    actor   \n",
      "14372  Morgan Freeman       1937        NaN    actor   \n",
      "14373  Morgan Freeman       1937        NaN    actor   \n",
      "\n",
      "                                            primaryTitle  \\\n",
      "13587                               The Electric Company   \n",
      "13588                                      Julius Caesar   \n",
      "13589                                             Attica   \n",
      "13590                                           Brubaker   \n",
      "13591                            The Marva Collins Story   \n",
      "...                                                  ...   \n",
      "14369             March of the Penguins 2: The Next Step   \n",
      "14370                                    The Poison Rose   \n",
      "14371                                           Vanquish   \n",
      "14372   Panama Canal in 3D a Land Divided a World United   \n",
      "14373  The Age of Spin: Dave Chappelle Live at the Ho...   \n",
      "\n",
      "                                           originalTitle  film_year gender  \\\n",
      "13587                               The Electric Company       1971      M   \n",
      "13588                                      Julius Caesar       1979      M   \n",
      "13589                                             Attica       1980      M   \n",
      "13590                                           Brubaker       1980      M   \n",
      "13591                            The Marva Collins Story       1981      M   \n",
      "...                                                  ...        ...    ...   \n",
      "14369                                         L'empereur       2017      M   \n",
      "14370                                    The Poison Rose       2019      M   \n",
      "14371                                           Vanquish       2021      M   \n",
      "14372   Panama Canal in 3D a Land Divided a World United       2019      M   \n",
      "14373  The Age of Spin: Dave Chappelle Live at the Ho...       2017      M   \n",
      "\n",
      "       age  \n",
      "13587   34  \n",
      "13588   42  \n",
      "13589   43  \n",
      "13590   43  \n",
      "13591   44  \n",
      "...    ...  \n",
      "14369   80  \n",
      "14370   82  \n",
      "14371   84  \n",
      "14372   82  \n",
      "14373   80  \n",
      "\n",
      "[784 rows x 9 columns]\n"
     ]
    }
   ],
   "source": [
    "#test data\n",
    "print(df.info())\n",
    "print(df[df['name'].isin(['Morgan Freeman'])])"
   ]
  },
  {
   "cell_type": "code",
   "execution_count": 23,
   "metadata": {},
   "outputs": [
    {
     "data": {
      "text/plain": [
       "array(['actor', 'actress'], dtype=object)"
      ]
     },
     "execution_count": 23,
     "metadata": {},
     "output_type": "execute_result"
    }
   ],
   "source": [
    "df['category'].unique()"
   ]
  },
  {
   "cell_type": "code",
   "execution_count": 22,
   "metadata": {},
   "outputs": [],
   "source": [
    "write_to_csv(df,name_title_processed_path)"
   ]
  },
  {
   "cell_type": "code",
   "execution_count": null,
   "metadata": {},
   "outputs": [],
   "source": []
  }
 ],
 "metadata": {
  "kernelspec": {
   "display_name": "Python 3",
   "language": "python",
   "name": "python3"
  },
  "language_info": {
   "codemirror_mode": {
    "name": "ipython",
    "version": 3
   },
   "file_extension": ".py",
   "mimetype": "text/x-python",
   "name": "python",
   "nbconvert_exporter": "python",
   "pygments_lexer": "ipython3",
   "version": "3.8.5"
  }
 },
 "nbformat": 4,
 "nbformat_minor": 4
}
