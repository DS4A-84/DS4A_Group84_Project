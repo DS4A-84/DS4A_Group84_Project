{
 "cells": [
  {
   "cell_type": "code",
   "execution_count": 138,
   "metadata": {},
   "outputs": [],
   "source": [
    "import pandas as pd\n",
    "from os import path\n",
    "import numpy as np"
   ]
  },
  {
   "cell_type": "code",
   "execution_count": 139,
   "metadata": {},
   "outputs": [],
   "source": [
    "name_basics_processed_path='../../data/imbd_data/name_basics_processed.csv'\n",
    "title_basics_processed_path='../../data/imbd_data/title_basics_processed.csv'\n",
    "title_principals_processed_path='../../data/imbd_data/title_principals_processed.csv'\n",
    "name_title_processed_path='../../data/imbd_data/name_title_processed.csv'"
   ]
  },
  {
   "cell_type": "code",
   "execution_count": 140,
   "metadata": {},
   "outputs": [],
   "source": [
    "def write_to_csv(df,filepath):\n",
    "    '''\n",
    "    input: df - a pandas DataFrame\n",
    "           filepath - an output filepath as a string\n",
    "\n",
    "    writes to a csv file\n",
    "    in same diretory as this script\n",
    "\n",
    "    returns: nothing\n",
    "    '''\n",
    "    # if no csv exists\n",
    "    if not path.exists(filepath):\n",
    "        df.to_csv(filepath,index=False)\n",
    "    else:\n",
    "        df.to_csv(filepath, mode='a', header=False,index=False)"
   ]
  },
  {
   "cell_type": "code",
   "execution_count": 141,
   "metadata": {},
   "outputs": [],
   "source": [
    "def load_dataset(filepath):\n",
    "    df = pd.read_csv(filepath)\n",
    "    return df\n"
   ]
  },
  {
   "cell_type": "code",
   "execution_count": null,
   "metadata": {},
   "outputs": [],
   "source": [
    "names_df = load_dataset(name_basics_processed_path)\n",
    "title_df = load_dataset(title_basics_processed_path)\n",
    "title_p_df = load_dataset(title_principals_processed_path)"
   ]
  },
  {
   "cell_type": "code",
   "execution_count": null,
   "metadata": {},
   "outputs": [],
   "source": [
    "names_df.head()\n",
    "print(names_df[names_df['primaryName'].isin(['Morgan Freeman'])])"
   ]
  },
  {
   "cell_type": "code",
   "execution_count": null,
   "metadata": {},
   "outputs": [],
   "source": [
    "title_p_df.head()"
   ]
  },
  {
   "cell_type": "code",
   "execution_count": null,
   "metadata": {},
   "outputs": [],
   "source": [
    "title_df.head()"
   ]
  },
  {
   "cell_type": "code",
   "execution_count": null,
   "metadata": {},
   "outputs": [],
   "source": [
    "print(names_df.info())\n",
    "print(title_df.info())"
   ]
  },
  {
   "cell_type": "code",
   "execution_count": null,
   "metadata": {},
   "outputs": [],
   "source": [
    "# merge names with title dataframe\n",
    "df = names_df.merge(title_p_df, \n",
    "                    left_on=['nconst'], \n",
    "                    right_on=['nconst'], how='left')"
   ]
  },
  {
   "cell_type": "code",
   "execution_count": null,
   "metadata": {},
   "outputs": [],
   "source": [
    "print(df.head())\n",
    "print(df[df['primaryName'].isin(['Morgan Freeman'])])"
   ]
  },
  {
   "cell_type": "code",
   "execution_count": 127,
   "metadata": {},
   "outputs": [],
   "source": [
    "# merge names with title dataframe\n",
    "df = df.merge(title_df, \n",
    "                    left_on=['tconst'], \n",
    "                    right_on=['tconst'], how='left')"
   ]
  },
  {
   "cell_type": "code",
   "execution_count": 128,
   "metadata": {},
   "outputs": [
    {
     "name": "stdout",
     "output_type": "stream",
     "text": [
      "      nconst   primaryName  birthYear  deathYear     tconst category  \\\n",
      "0  nm0000001  Fred Astaire       1899     1987.0  tt0025164    actor   \n",
      "1  nm0000001  Fred Astaire       1899     1987.0  tt0026942    actor   \n",
      "2  nm0000001  Fred Astaire       1899     1987.0  tt0027125    actor   \n",
      "3  nm0000001  Fred Astaire       1899     1987.0  tt0027630    actor   \n",
      "4  nm0000001  Fred Astaire       1899     1987.0  tt0028333    actor   \n",
      "\n",
      "       primaryTitle     originalTitle  startYear  \n",
      "0  The Gay Divorcee  The Gay Divorcee     1934.0  \n",
      "1           Roberta           Roberta     1935.0  \n",
      "2           Top Hat           Top Hat     1935.0  \n",
      "3  Follow the Fleet  Follow the Fleet     1936.0  \n",
      "4        Swing Time        Swing Time     1936.0  \n"
     ]
    }
   ],
   "source": [
    "print(df.head())"
   ]
  },
  {
   "cell_type": "code",
   "execution_count": 129,
   "metadata": {},
   "outputs": [
    {
     "name": "stdout",
     "output_type": "stream",
     "text": [
      "Index(['name', 'birthYear', 'deathYear', 'category', 'primaryTitle',\n",
      "       'originalTitle', 'film_year'],\n",
      "      dtype='object')\n",
      "           name  birthYear  deathYear category      primaryTitle  \\\n",
      "0  Fred Astaire       1899     1987.0    actor  The Gay Divorcee   \n",
      "1  Fred Astaire       1899     1987.0    actor           Roberta   \n",
      "\n",
      "      originalTitle  film_year  \n",
      "0  The Gay Divorcee       1934  \n",
      "1           Roberta       1935  \n"
     ]
    }
   ],
   "source": [
    "\n",
    "df = df.dropna()\n",
    "df.startYear = df.startYear.astype(int)\n",
    "\n",
    "df = df[['primaryName','birthYear','deathYear',\n",
    "         'category','primaryTitle','originalTitle',\n",
    "         'startYear']]\n",
    "\n",
    "df.columns = ['name','birthYear','deathYear',\n",
    "              'category','primaryTitle','originalTitle','film_year']\n",
    "\n",
    "print(df.columns)\n",
    "print(df.head(2))"
   ]
  },
  {
   "cell_type": "code",
   "execution_count": 130,
   "metadata": {},
   "outputs": [],
   "source": [
    "# create gender category\n",
    "df['gender'] = np.where(df['category']=='actor', 'M', 'F')"
   ]
  },
  {
   "cell_type": "code",
   "execution_count": 131,
   "metadata": {},
   "outputs": [
    {
     "name": "stdout",
     "output_type": "stream",
     "text": [
      "           name  birthYear  deathYear category      primaryTitle  \\\n",
      "0  Fred Astaire       1899     1987.0    actor  The Gay Divorcee   \n",
      "\n",
      "      originalTitle  film_year gender  \n",
      "0  The Gay Divorcee       1934      M  \n"
     ]
    }
   ],
   "source": [
    "print(df.head(1))"
   ]
  },
  {
   "cell_type": "code",
   "execution_count": 132,
   "metadata": {},
   "outputs": [],
   "source": [
    "# make sure years are integers\n",
    "df.birthYear = df.birthYear.astype(int)\n",
    "df.deathYear = df.deathYear.astype(int)\n",
    "df.film_year = df.film_year.astype(int)\n",
    "\n",
    "# create person age \n",
    "df['age'] = df.film_year-df.birthYear"
   ]
  },
  {
   "cell_type": "code",
   "execution_count": 133,
   "metadata": {},
   "outputs": [
    {
     "name": "stdout",
     "output_type": "stream",
     "text": [
      "           name  birthYear  deathYear category      primaryTitle  \\\n",
      "0  Fred Astaire       1899       1987    actor  The Gay Divorcee   \n",
      "\n",
      "      originalTitle  film_year gender  age  \n",
      "0  The Gay Divorcee       1934      M   35  \n",
      "2164540\n"
     ]
    }
   ],
   "source": [
    "print(df.head(1))\n",
    "print(len(df))"
   ]
  },
  {
   "cell_type": "code",
   "execution_count": 134,
   "metadata": {},
   "outputs": [
    {
     "name": "stdout",
     "output_type": "stream",
     "text": [
      "Empty DataFrame\n",
      "Columns: [name, birthYear, deathYear, category, primaryTitle, originalTitle, film_year, gender, age]\n",
      "Index: []\n"
     ]
    }
   ],
   "source": [
    "#test data\n",
    "print(df[df['name'].isin(['Morgan Freeman'])])"
   ]
  },
  {
   "cell_type": "code",
   "execution_count": 135,
   "metadata": {},
   "outputs": [],
   "source": [
    "write_to_csv(df,name_title_processed_path)"
   ]
  },
  {
   "cell_type": "code",
   "execution_count": null,
   "metadata": {},
   "outputs": [],
   "source": []
  }
 ],
 "metadata": {
  "kernelspec": {
   "display_name": "Python 3",
   "language": "python",
   "name": "python3"
  },
  "language_info": {
   "codemirror_mode": {
    "name": "ipython",
    "version": 3
   },
   "file_extension": ".py",
   "mimetype": "text/x-python",
   "name": "python",
   "nbconvert_exporter": "python",
   "pygments_lexer": "ipython3",
   "version": "3.8.5"
  }
 },
 "nbformat": 4,
 "nbformat_minor": 4
}
