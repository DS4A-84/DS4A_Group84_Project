{
 "cells": [
  {
   "cell_type": "code",
   "execution_count": 392,
   "metadata": {},
   "outputs": [],
   "source": [
    "import pandas as pd\n",
    "from os import path\n",
    "import numpy as np"
   ]
  },
  {
   "cell_type": "code",
   "execution_count": 393,
   "metadata": {},
   "outputs": [],
   "source": [
    "name_basics_path='../../data/imbd_data/name_basics.tsv'\n",
    "name_basics_processed_path='../../data/imbd_data/name_basics_processed.csv'"
   ]
  },
  {
   "cell_type": "code",
   "execution_count": 394,
   "metadata": {},
   "outputs": [
    {
     "name": "stdout",
     "output_type": "stream",
     "text": [
      "      nconst   primaryName birthYear deathYear  \\\n",
      "0  nm0000001  Fred Astaire      1899      1987   \n",
      "\n",
      "                primaryProfession                           knownForTitles  \n",
      "0  soundtrack,actor,miscellaneous  tt0072308,tt0053137,tt0050419,tt0031983  \n"
     ]
    }
   ],
   "source": [
    "# Reading TSV files\n",
    "# TSV files are csv files with \"\\t\" as the delimeter\n",
    "df = pd.read_csv(name_basics_path,delimiter=\"\\t\")\n",
    "print(df.head(1))\n"
   ]
  },
  {
   "cell_type": "code",
   "execution_count": 395,
   "metadata": {},
   "outputs": [],
   "source": [
    "def write_to_csv(df,filepath):\n",
    "    '''\n",
    "    input: df - a pandas DataFrame\n",
    "           filepath - an output filepath as a string\n",
    "\n",
    "    writes to a csv file\n",
    "    in same diretory as this script\n",
    "\n",
    "    returns: nothing\n",
    "    '''\n",
    "    # if no csv exists\n",
    "    if not path.exists(filepath):\n",
    "        df.to_csv(filepath,index=False)\n",
    "    else:\n",
    "        df.to_csv(filepath, mode='a', header=False,index=False)"
   ]
  },
  {
   "cell_type": "code",
   "execution_count": 396,
   "metadata": {},
   "outputs": [
    {
     "name": "stdout",
     "output_type": "stream",
     "text": [
      "      nconst   primaryName birthYear deathYear  \\\n",
      "0  nm0000001  Fred Astaire      1899      1987   \n",
      "\n",
      "                primaryProfession                           knownForTitles  \n",
      "0  soundtrack,actor,miscellaneous  tt0072308,tt0053137,tt0050419,tt0031983  \n",
      "11114609\n",
      "['soundtrack,actor,miscellaneous' 'actress,soundtrack'\n",
      " 'actress,soundtrack,music_department' ... 'publicist,production_designer'\n",
      " 'talent_agent,actor,cinematographer' 'editor,costume_designer,director']\n"
     ]
    }
   ],
   "source": [
    "print(df.head(1))\n",
    "print(len(df))\n",
    "print(df.primaryProfession.unique())"
   ]
  },
  {
   "cell_type": "code",
   "execution_count": 397,
   "metadata": {},
   "outputs": [],
   "source": [
    "# make na string to na\n",
    "df = df.replace('\\\\N', np.nan)\n",
    "# only include rows with valid birthYear\n",
    "df = df[df['birthYear'].notna()]"
   ]
  },
  {
   "cell_type": "code",
   "execution_count": 398,
   "metadata": {},
   "outputs": [],
   "source": [
    "df = df[['nconst', 'primaryName', 'birthYear', 'deathYear']]\n",
    "write_to_csv(df,name_basics_processed_path)"
   ]
  },
  {
   "cell_type": "code",
   "execution_count": 399,
   "metadata": {},
   "outputs": [
    {
     "name": "stdout",
     "output_type": "stream",
     "text": [
      "Index(['nconst', 'primaryName', 'birthYear', 'deathYear'], dtype='object')\n"
     ]
    }
   ],
   "source": [
    "print(df.columns)"
   ]
  },
  {
   "cell_type": "code",
   "execution_count": null,
   "metadata": {},
   "outputs": [],
   "source": []
  }
 ],
 "metadata": {
  "kernelspec": {
   "display_name": "Python 3",
   "language": "python",
   "name": "python3"
  },
  "language_info": {
   "codemirror_mode": {
    "name": "ipython",
    "version": 3
   },
   "file_extension": ".py",
   "mimetype": "text/x-python",
   "name": "python",
   "nbconvert_exporter": "python",
   "pygments_lexer": "ipython3",
   "version": "3.8.5"
  }
 },
 "nbformat": 4,
 "nbformat_minor": 4
}
