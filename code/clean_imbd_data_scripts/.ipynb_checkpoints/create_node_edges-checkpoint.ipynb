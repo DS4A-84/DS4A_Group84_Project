{
 "cells": [
  {
   "cell_type": "code",
   "execution_count": 33,
   "metadata": {},
   "outputs": [],
   "source": [
    "import pandas as pd\n",
    "from os import path\n",
    "import numpy as np\n",
    "import time"
   ]
  },
  {
   "cell_type": "code",
   "execution_count": 2,
   "metadata": {},
   "outputs": [],
   "source": [
    "name_title_processed_path = '../../data/imbd_data/name_title_processed.csv'\n",
    "nodes_df_path = '../../data/imbd_data/nodes.csv'\n",
    "edges_df_path = '../../data/imbd_data/edges.csv'"
   ]
  },
  {
   "cell_type": "code",
   "execution_count": 3,
   "metadata": {},
   "outputs": [],
   "source": [
    "def write_to_csv(df,filepath):\n",
    "    '''\n",
    "    input: df - a pandas DataFrame\n",
    "           filepath - an output filepath as a string\n",
    "\n",
    "    writes to a csv file\n",
    "    in same diretory as this script\n",
    "\n",
    "    returns: nothing\n",
    "    '''\n",
    "    # if no csv exists\n",
    "    if not path.exists(filepath):\n",
    "        df.to_csv(filepath,index=False)\n",
    "    else:\n",
    "        df.to_csv(filepath, mode='a', header=False,index=False)"
   ]
  },
  {
   "cell_type": "code",
   "execution_count": 4,
   "metadata": {},
   "outputs": [],
   "source": [
    "def load_dataset(filepath):\n",
    "    df = pd.read_csv(filepath)\n",
    "    return df"
   ]
  },
  {
   "cell_type": "code",
   "execution_count": 5,
   "metadata": {},
   "outputs": [],
   "source": [
    "df = load_dataset(name_title_processed_path)"
   ]
  },
  {
   "cell_type": "code",
   "execution_count": 6,
   "metadata": {},
   "outputs": [
    {
     "name": "stdout",
     "output_type": "stream",
     "text": [
      "      nconst     tconst          name  birthYear  deathYear category  \\\n",
      "0  nm0000001  tt0025164  Fred Astaire       1899     1987.0    actor   \n",
      "\n",
      "       primaryTitle     originalTitle  film_year gender  age  \n",
      "0  The Gay Divorcee  The Gay Divorcee       1934      M   35  \n",
      "9477183\n"
     ]
    }
   ],
   "source": [
    "print(df.head(1))\n",
    "print(len(df))"
   ]
  },
  {
   "cell_type": "code",
   "execution_count": 7,
   "metadata": {},
   "outputs": [],
   "source": [
    "def create_nodes(df, filepath):\n",
    "    '''\n",
    "    takes a pandas dataframe\n",
    "    and extracts names\n",
    "    uses filepath to write output\n",
    "    '''\n",
    "    df = df[['nconst']].drop_duplicates()\n",
    "    write_to_csv(df,filepath)"
   ]
  },
  {
   "cell_type": "code",
   "execution_count": 57,
   "metadata": {},
   "outputs": [],
   "source": [
    "def create_edges(df, filepath):\n",
    "    '''\n",
    "    takes a pandas dataframe\n",
    "    and for each year for each film\n",
    "    uses filepath to write output\n",
    "    '''\n",
    "    films = df.tconst.unique()\n",
    "    for film in films[0:1]:\n",
    "        start = time.time()\n",
    "        temp = df[df.tconst == film].reset_index()\n",
    "        t_year = temp.film_year.unique()\n",
    "        t_names = temp['nconst']\n",
    "        \n",
    "        pairs = np.stack(i.ravel() for i in np.meshgrid(t_names, t_names)).T\n",
    "        end = time. time()\n",
    "        print(end - start)\n",
    "        #temp = pd.DataFrame(pairs, columns=['source', 'target'])\n",
    "        #temp['film_year'] = int(t_year)\n",
    "        #print(temp.drop_duplicates())\n",
    "        #write_to_csv(temp,filepath)\n",
    "        \n",
    "    "
   ]
  },
  {
   "cell_type": "code",
   "execution_count": 58,
   "metadata": {},
   "outputs": [
    {
     "name": "stdout",
     "output_type": "stream",
     "text": [
      "0.36500096321105957\n",
      "0.36699843406677246\n",
      "0.369002103805542\n",
      "0.37000393867492676\n",
      "0.3679947853088379\n",
      "0.370999813079834\n",
      "0.367002010345459\n",
      "0.3689994812011719\n",
      "0.3679986000061035\n"
     ]
    }
   ],
   "source": [
    "# CREATE EDGES\n",
    "start = time.time()\n",
    "create_edges(df, edges_df_path)\n"
   ]
  },
  {
   "cell_type": "code",
   "execution_count": null,
   "metadata": {},
   "outputs": [],
   "source": [
    "# CREATE NODES\n",
    "create_nodes(df[0:100], nodes_df_path)"
   ]
  },
  {
   "cell_type": "code",
   "execution_count": 46,
   "metadata": {},
   "outputs": [
    {
     "name": "stdout",
     "output_type": "stream",
     "text": [
      "[[1 1]\n",
      " [1 2]\n",
      " [1 3]\n",
      " [1 4]\n",
      " [2 1]\n",
      " [2 2]\n",
      " [2 3]\n",
      " [2 4]\n",
      " [3 1]\n",
      " [3 2]\n",
      " [3 3]\n",
      " [3 4]\n",
      " [4 1]\n",
      " [4 2]\n",
      " [4 3]\n",
      " [4 4]]\n",
      "0.0\n"
     ]
    }
   ],
   "source": [
    "array_1 = np.array([1,2,3,4])\n",
    "array_2 = np.array([1,2,3,4])\n",
    "\n",
    "start = time.time()\n",
    "mesh = np.array(np.meshgrid(array_1, array_2))\n",
    "\n",
    "\n",
    "combinations = mesh.T.reshape(-1, 2)\n",
    "print(combinations)\n",
    "end = time. time()\n",
    "print(end - start)"
   ]
  },
  {
   "cell_type": "code",
   "execution_count": 43,
   "metadata": {},
   "outputs": [
    {
     "name": "stdout",
     "output_type": "stream",
     "text": [
      "2882301\n"
     ]
    }
   ],
   "source": [
    "#2.404025077819824\n",
    "films = df.tconst.unique()\n",
    "print(len(films))"
   ]
  },
  {
   "cell_type": "code",
   "execution_count": null,
   "metadata": {},
   "outputs": [],
   "source": []
  }
 ],
 "metadata": {
  "kernelspec": {
   "display_name": "Python 3",
   "language": "python",
   "name": "python3"
  },
  "language_info": {
   "codemirror_mode": {
    "name": "ipython",
    "version": 3
   },
   "file_extension": ".py",
   "mimetype": "text/x-python",
   "name": "python",
   "nbconvert_exporter": "python",
   "pygments_lexer": "ipython3",
   "version": "3.8.5"
  }
 },
 "nbformat": 4,
 "nbformat_minor": 4
}
