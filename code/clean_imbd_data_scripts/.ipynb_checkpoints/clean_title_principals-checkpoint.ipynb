{
 "cells": [
  {
   "cell_type": "code",
   "execution_count": 1,
   "metadata": {},
   "outputs": [],
   "source": [
    "import pandas as pd\n",
    "from os import path\n",
    "import numpy as np"
   ]
  },
  {
   "cell_type": "code",
   "execution_count": 4,
   "metadata": {},
   "outputs": [],
   "source": [
    "title_principals_path='../../data/imbd_data/title_principals.tsv'\n",
    "title_principals_processed_path='../../data/imbd_data/title_principals_processed.csv'"
   ]
  },
  {
   "cell_type": "code",
   "execution_count": 5,
   "metadata": {},
   "outputs": [],
   "source": [
    "def write_to_csv(df,filepath):\n",
    "    '''\n",
    "    input: df - a pandas DataFrame\n",
    "           filepath - an output filepath as a string\n",
    "\n",
    "    writes to a csv file\n",
    "    in same diretory as this script\n",
    "\n",
    "    returns: nothing\n",
    "    '''\n",
    "    # if no csv exists\n",
    "    if not path.exists(filepath):\n",
    "        df.to_csv(filepath,index=False)\n",
    "    else:\n",
    "        df.to_csv(filepath, mode='a', header=False,index=False)"
   ]
  },
  {
   "cell_type": "code",
   "execution_count": 6,
   "metadata": {},
   "outputs": [
    {
     "name": "stdout",
     "output_type": "stream",
     "text": [
      "      tconst  ordering     nconst         category                      job  \\\n",
      "0  tt0000001         1  nm1588970             self                       \\N   \n",
      "1  tt0000001         2  nm0005690         director                       \\N   \n",
      "2  tt0000001         3  nm0374658  cinematographer  director of photography   \n",
      "3  tt0000002         1  nm0721526         director                       \\N   \n",
      "4  tt0000002         2  nm1335271         composer                       \\N   \n",
      "\n",
      "  characters  \n",
      "0   [\"Self\"]  \n",
      "1         \\N  \n",
      "2         \\N  \n",
      "3         \\N  \n",
      "4         \\N  \n"
     ]
    }
   ],
   "source": [
    "# Reading TSV files\n",
    "# TSV files are csv files with \"\\t\" as the delimeter\n",
    "df = pd.read_csv(title_principals_path,delimiter=\"\\t\")"
   ]
  },
  {
   "cell_type": "code",
   "execution_count": 10,
   "metadata": {},
   "outputs": [],
   "source": [
    "df = df[['tconst','nconst','category']]\n",
    "#include only actors/actress\n",
    "df = df[df['category'].isin(['actor','actress'])]"
   ]
  },
  {
   "cell_type": "code",
   "execution_count": 13,
   "metadata": {},
   "outputs": [
    {
     "name": "stdout",
     "output_type": "stream",
     "text": [
      "['actor' 'actress']\n",
      "       tconst     nconst category\n",
      "11  tt0000005  nm0443482    actor\n"
     ]
    }
   ],
   "source": [
    "print(df.category.unique())\n",
    "print(df.head(1))"
   ]
  },
  {
   "cell_type": "code",
   "execution_count": 12,
   "metadata": {},
   "outputs": [],
   "source": [
    "write_to_csv(df,title_principals_processed_path)"
   ]
  },
  {
   "cell_type": "code",
   "execution_count": null,
   "metadata": {},
   "outputs": [],
   "source": []
  }
 ],
 "metadata": {
  "kernelspec": {
   "display_name": "Python 3",
   "language": "python",
   "name": "python3"
  },
  "language_info": {
   "codemirror_mode": {
    "name": "ipython",
    "version": 3
   },
   "file_extension": ".py",
   "mimetype": "text/x-python",
   "name": "python",
   "nbconvert_exporter": "python",
   "pygments_lexer": "ipython3",
   "version": "3.8.5"
  }
 },
 "nbformat": 4,
 "nbformat_minor": 4
}
