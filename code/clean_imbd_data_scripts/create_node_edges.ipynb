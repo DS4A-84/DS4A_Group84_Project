{
 "cells": [
  {
   "cell_type": "code",
   "execution_count": 33,
   "metadata": {},
   "outputs": [],
   "source": [
    "import pandas as pd\n",
    "from os import path\n",
    "import numpy as np\n",
    "import time"
   ]
  },
  {
   "cell_type": "code",
   "execution_count": 2,
   "metadata": {},
   "outputs": [],
   "source": [
    "name_title_processed_path = '../../data/imbd_data/name_title_processed.csv'\n",
    "nodes_df_path = '../../data/imbd_data/nodes.csv'\n",
    "edges_df_path = '../../data/imbd_data/edges.csv'"
   ]
  },
  {
   "cell_type": "code",
   "execution_count": 3,
   "metadata": {},
   "outputs": [],
   "source": [
    "def write_to_csv(df,filepath):\n",
    "    '''\n",
    "    input: df - a pandas DataFrame\n",
    "           filepath - an output filepath as a string\n",
    "\n",
    "    writes to a csv file\n",
    "    in same diretory as this script\n",
    "\n",
    "    returns: nothing\n",
    "    '''\n",
    "    # if no csv exists\n",
    "    if not path.exists(filepath):\n",
    "        df.to_csv(filepath,index=False)\n",
    "    else:\n",
    "        df.to_csv(filepath, mode='a', header=False,index=False)"
   ]
  },
  {
   "cell_type": "code",
   "execution_count": 4,
   "metadata": {},
   "outputs": [],
   "source": [
    "def load_dataset(filepath):\n",
    "    df = pd.read_csv(filepath)\n",
    "    return df"
   ]
  },
  {
   "cell_type": "code",
   "execution_count": 5,
   "metadata": {},
   "outputs": [],
   "source": [
    "df = load_dataset(name_title_processed_path)"
   ]
  },
  {
   "cell_type": "code",
   "execution_count": 6,
   "metadata": {},
   "outputs": [
    {
     "name": "stdout",
     "output_type": "stream",
     "text": [
      "      nconst     tconst          name  birthYear  deathYear category  \\\n",
      "0  nm0000001  tt0025164  Fred Astaire       1899     1987.0    actor   \n",
      "\n",
      "       primaryTitle     originalTitle  film_year gender  age  \n",
      "0  The Gay Divorcee  The Gay Divorcee       1934      M   35  \n",
      "9477183\n"
     ]
    }
   ],
   "source": [
    "print(df.head(1))\n",
    "print(len(df))"
   ]
  },
  {
   "cell_type": "code",
   "execution_count": 7,
   "metadata": {},
   "outputs": [],
   "source": [
    "def create_nodes(df, filepath):\n",
    "    '''\n",
    "    takes a pandas dataframe\n",
    "    and extracts names\n",
    "    uses filepath to write output\n",
    "    '''\n",
    "    df = df[['nconst']].drop_duplicates()\n",
    "    write_to_csv(df,filepath)"
   ]
  },
  {
   "cell_type": "code",
   "execution_count": 59,
   "metadata": {},
   "outputs": [],
   "source": [
    "'''\n",
    "def create_edges(df, filepath):\n",
    "    '''\n",
    "    takes a pandas dataframe\n",
    "    and for each year for each film\n",
    "    uses filepath to write output\n",
    "    '''\n",
    "    films = df.tconst.unique()\n",
    "    for film in films[0:1]:\n",
    "        start = time.time()\n",
    "        temp = df[df.tconst == film].reset_index()\n",
    "        t_year = temp.film_year.unique()\n",
    "        t_names = temp['nconst']\n",
    "        \n",
    "        pairs = np.stack(i.ravel() for i in np.meshgrid(t_names, t_names)).T\n",
    "        end = time. time()\n",
    "        print(end - start)\n",
    "        #temp = pd.DataFrame(pairs, columns=['source', 'target'])\n",
    "        #temp['film_year'] = int(t_year)\n",
    "        #print(temp.drop_duplicates())\n",
    "        #write_to_csv(temp,filepath)\n",
    "        \n",
    "'''"
   ]
  },
  {
   "cell_type": "code",
   "execution_count": null,
   "metadata": {},
   "outputs": [],
   "source": [
    "def create_edges_csv(df,filepath):\n",
    "    '''\n",
    "    Inputs: df - pandas dataframe\n",
    "            filepath - python string\n",
    "\n",
    "    this will take the nominees per film title\n",
    "    and create link between every nominee in that movie\n",
    "    saves output as dataframe with columns source target\n",
    "\n",
    "    Returns: nothing\n",
    "    '''\n",
    "\n",
    "    films = df['title'].unique()\n",
    "\n",
    "    for film in films:\n",
    "        nominees = df[df['title'] == film]['name']\n",
    "        nominees = nominees.reset_index(drop=True)\n",
    "\n",
    "        # only include films with more than one nominees in it\n",
    "        if len(nominees) != 1:\n",
    "            for i in range(0, len(nominees)):\n",
    "                for j in range(i+1, len(nominees)):\n",
    "                    pairs = [[nominees[i], nominees[j]]]\n",
    "                    df1 = pd.DataFrame(pairs, columns = ['source', 'target'])\n",
    "                    write_to_csv(df1, filepath)"
   ]
  },
  {
   "cell_type": "code",
   "execution_count": 60,
   "metadata": {},
   "outputs": [
    {
     "name": "stdout",
     "output_type": "stream",
     "text": [
      "0.39702701568603516\n"
     ]
    }
   ],
   "source": [
    "# CREATE EDGES\n",
    "start = time.time()\n",
    "create_edges(df, edges_df_path)\n"
   ]
  },
  {
   "cell_type": "code",
   "execution_count": null,
   "metadata": {},
   "outputs": [],
   "source": [
    "# CREATE NODES\n",
    "create_nodes(df[0:100], nodes_df_path)"
   ]
  },
  {
   "cell_type": "code",
   "execution_count": 46,
   "metadata": {},
   "outputs": [
    {
     "name": "stdout",
     "output_type": "stream",
     "text": [
      "[[1 1]\n",
      " [1 2]\n",
      " [1 3]\n",
      " [1 4]\n",
      " [2 1]\n",
      " [2 2]\n",
      " [2 3]\n",
      " [2 4]\n",
      " [3 1]\n",
      " [3 2]\n",
      " [3 3]\n",
      " [3 4]\n",
      " [4 1]\n",
      " [4 2]\n",
      " [4 3]\n",
      " [4 4]]\n",
      "0.0\n"
     ]
    }
   ],
   "source": [
    "array_1 = np.array([1,2,3,4])\n",
    "array_2 = np.array([1,2,3,4])\n",
    "\n",
    "start = time.time()\n",
    "mesh = np.array(np.meshgrid(array_1, array_2))\n",
    "\n",
    "\n",
    "combinations = mesh.T.reshape(-1, 2)\n",
    "print(combinations)\n",
    "end = time. time()\n",
    "print(end - start)"
   ]
  },
  {
   "cell_type": "code",
   "execution_count": 43,
   "metadata": {},
   "outputs": [
    {
     "name": "stdout",
     "output_type": "stream",
     "text": [
      "2882301\n"
     ]
    }
   ],
   "source": [
    "#2.404025077819824\n",
    "films = df.tconst.unique()\n",
    "print(len(films))"
   ]
  },
  {
   "cell_type": "code",
   "execution_count": 65,
   "metadata": {},
   "outputs": [
    {
     "name": "stdout",
     "output_type": "stream",
     "text": [
      "            nconst     tconst  film_year\n",
      "0        nm0000001  tt0025164       1934\n",
      "211903   nm0001677  tt0025164       1934\n",
      "261521   nm0002143  tt0025164       1934\n",
      "1224529  nm0103567  tt0025164       1934\n"
     ]
    }
   ],
   "source": [
    "temp = df[df.tconst == 'tt0025164']\n",
    "print(temp[['nconst','tconst','film_year']].head(10))"
   ]
  },
  {
   "cell_type": "code",
   "execution_count": null,
   "metadata": {},
   "outputs": [],
   "source": []
  }
 ],
 "metadata": {
  "kernelspec": {
   "display_name": "Python 3",
   "language": "python",
   "name": "python3"
  },
  "language_info": {
   "codemirror_mode": {
    "name": "ipython",
    "version": 3
   },
   "file_extension": ".py",
   "mimetype": "text/x-python",
   "name": "python",
   "nbconvert_exporter": "python",
   "pygments_lexer": "ipython3",
   "version": "3.8.5"
  }
 },
 "nbformat": 4,
 "nbformat_minor": 4
}
