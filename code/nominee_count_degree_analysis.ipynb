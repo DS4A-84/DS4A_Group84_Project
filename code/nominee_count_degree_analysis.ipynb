{
 "cells": [
  {
   "cell_type": "code",
   "execution_count": 15,
   "metadata": {},
   "outputs": [],
   "source": [
    "#!/usr/bin/python\n",
    "\n",
    "# DS4A Project\n",
    "# Group 84\n",
    "# using node/edge info to create network graph\n",
    "# and do social network analysis\n",
    "\n",
    "from os import path\n",
    "import pandas as pd\n",
    "from sklearn.linear_model import LogisticRegression\n",
    "\n",
    "\n",
    "nominee_count_degree_data_path = '../data/nominee_degree_counts_data.csv'"
   ]
  },
  {
   "cell_type": "code",
   "execution_count": 16,
   "metadata": {},
   "outputs": [],
   "source": [
    "def load_dataset(filepath):\n",
    "    df = pd.read_csv(filepath)\n",
    "    return df\n"
   ]
  },
  {
   "cell_type": "code",
   "execution_count": 17,
   "metadata": {},
   "outputs": [
    {
     "name": "stdout",
     "output_type": "stream",
     "text": [
      "              name  winner gender  birthYear  year_film  \\\n",
      "0  Abigail Breslin   False      F       1996       2006   \n",
      "1      Adam Driver   False      M       1983       2018   \n",
      "\n",
      "                       category  ceremonyAge  num_times_nominated  degree  \\\n",
      "0  ACTRESS IN A SUPPORTING ROLE           10                    1      17   \n",
      "1    ACTOR IN A SUPPORTING ROLE           35                    2      34   \n",
      "\n",
      "   year  \n",
      "0  2006  \n",
      "1  2018  \n"
     ]
    }
   ],
   "source": [
    "df = load_dataset(nominee_count_degree_data_path)\n",
    "print(df.head(2))"
   ]
  },
  {
   "cell_type": "code",
   "execution_count": 86,
   "metadata": {},
   "outputs": [
    {
     "name": "stdout",
     "output_type": "stream",
     "text": [
      "<class 'pandas.core.frame.DataFrame'>\n",
      "RangeIndex: 1696 entries, 0 to 1695\n",
      "Data columns (total 10 columns):\n",
      " #   Column               Non-Null Count  Dtype \n",
      "---  ------               --------------  ----- \n",
      " 0   name                 1696 non-null   object\n",
      " 1   winner               1696 non-null   int64 \n",
      " 2   gender               1696 non-null   int64 \n",
      " 3   birthYear            1696 non-null   int64 \n",
      " 4   year_film            1696 non-null   int64 \n",
      " 5   category             1696 non-null   object\n",
      " 6   ceremonyAge          1696 non-null   int64 \n",
      " 7   num_times_nominated  1696 non-null   int64 \n",
      " 8   degree               1696 non-null   int64 \n",
      " 9   year                 1696 non-null   int64 \n",
      "dtypes: int64(8), object(2)\n",
      "memory usage: 132.6+ KB\n",
      "None\n",
      "              name  winner  gender  birthYear  year_film  \\\n",
      "0  Abigail Breslin       0       0       1996       2006   \n",
      "1      Adam Driver       0       1       1983       2018   \n",
      "\n",
      "                       category  ceremonyAge  num_times_nominated  degree  \\\n",
      "0  ACTRESS IN A SUPPORTING ROLE           10                    1      17   \n",
      "1    ACTOR IN A SUPPORTING ROLE           35                    2      34   \n",
      "\n",
      "   year  \n",
      "0  2006  \n",
      "1  2018  \n"
     ]
    }
   ],
   "source": [
    "df.loc[(df.winner == False),'winner']=0\n",
    "df.loc[(df.winner == True),'winner']=1\n",
    "df.loc[(df.gender == 'F'),'gender']=0\n",
    "df.loc[(df.gender == 'M'),'gender']=1\n",
    "df.winner = df.winner.astype('int64', copy=False)\n",
    "df.gender = df.gender.astype('int64', copy=False)\n",
    "print(df.info())\n",
    "print(df.head(2))"
   ]
  },
  {
   "cell_type": "code",
   "execution_count": 106,
   "metadata": {},
   "outputs": [],
   "source": [
    "X = df[['gender','ceremonyAge','num_times_nominated','degree']]\n",
    "y = df['winner']\n",
    "\n",
    "\n"
   ]
  },
  {
   "cell_type": "code",
   "execution_count": 88,
   "metadata": {},
   "outputs": [],
   "source": [
    "from sklearn.feature_selection import RFE\n",
    "from sklearn.linear_model import LogisticRegression\n",
    "from sklearn.linear_model import LogisticRegression\n",
    "from sklearn.model_selection import train_test_split\n",
    "from sklearn import metrics\n",
    "X_train, X_test, y_train, y_test = train_test_split(X, y, test_size=0.3, random_state=0)\n",
    "\n",
    "\n"
   ]
  },
  {
   "cell_type": "code",
   "execution_count": 89,
   "metadata": {},
   "outputs": [],
   "source": [
    "clf = LogisticRegression(random_state=0).fit(X_train, y_train)"
   ]
  },
  {
   "cell_type": "code",
   "execution_count": 93,
   "metadata": {},
   "outputs": [
    {
     "data": {
      "text/plain": [
       "array([0, 0, 0, 0, 0, 0, 0, 0, 0, 0, 0, 0, 0, 0, 0, 0, 0, 0, 0, 0, 0, 0,\n",
       "       0, 0, 0, 0, 0, 0, 0, 0, 0, 0, 0, 0, 0, 0, 0, 0, 0, 0, 0, 0, 0, 0,\n",
       "       0, 0, 0, 0, 0, 0, 0, 0, 0, 0, 0, 0, 0, 0, 0, 0, 0, 0, 0, 0, 0, 0,\n",
       "       0, 0, 0, 0, 0, 0, 0, 0, 0, 0, 0, 0, 0, 0, 0, 0, 0, 0, 0, 0, 0, 0,\n",
       "       0, 0, 0, 0, 0, 0, 0, 0, 0, 0, 0, 0, 0, 0, 0, 0, 0, 0, 0, 0, 0, 0,\n",
       "       0, 0, 0, 0, 0, 0, 0, 0, 0, 0, 0, 0, 0, 0, 0, 0, 0, 0, 0, 0, 0, 0,\n",
       "       0, 0, 0, 0, 0, 0, 0, 0, 0, 0, 0, 0, 0, 0, 0, 0, 0, 0, 0, 0, 0, 0,\n",
       "       0, 0, 0, 0, 0, 0, 0, 0, 0, 0, 0, 0, 0, 0, 0, 0, 0, 0, 0, 0, 0, 0,\n",
       "       0, 0, 0, 0, 0, 0, 0, 0, 0, 0, 0, 0, 0, 0, 0, 0, 0, 0, 0, 0, 0, 0,\n",
       "       0, 0, 0, 0, 0, 0, 0, 0, 0, 0, 0, 0, 0, 0, 0, 0, 0, 0, 0, 0, 0, 0,\n",
       "       0, 0, 0, 0, 0, 0, 0, 0, 0, 0, 0, 0, 0, 0, 0, 0, 0, 0, 0, 0, 0, 0,\n",
       "       0, 0, 0, 0, 0, 0, 0, 0, 0, 0, 0, 0, 0, 0, 0, 0, 0, 0, 0, 0, 0, 0,\n",
       "       0, 0, 0, 0, 0, 0, 0, 0, 0, 0, 0, 0, 0, 0, 0, 0, 0, 0, 0, 0, 0, 0,\n",
       "       0, 0, 0, 0, 0, 0, 0, 0, 0, 0, 0, 0, 0, 0, 0, 0, 0, 0, 0, 0, 0, 0,\n",
       "       0, 0, 0, 0, 0, 0, 0, 0, 0, 0, 0, 0, 0, 0, 0, 0, 0, 0, 0, 0, 0, 0,\n",
       "       0, 0, 0, 0, 0, 0, 0, 0, 0, 0, 0, 0, 0, 0, 0, 0, 0, 0, 0, 0, 0, 0,\n",
       "       0, 0, 0, 0, 0, 0, 0, 0, 0, 0, 0, 0, 0, 0, 0, 0, 0, 0, 0, 0, 0, 0,\n",
       "       0, 0, 0, 0, 0, 0, 0, 0, 0, 0, 0, 0, 0, 0, 0, 0, 0, 0, 0, 0, 0, 0,\n",
       "       0, 0, 0, 0, 0, 0, 0, 0, 0, 0, 0, 0, 0, 0, 0, 0, 0, 0, 0, 0, 0, 0,\n",
       "       0, 0, 0, 0, 0, 0, 0, 0, 0, 0, 0, 0, 0, 0, 0, 0, 0, 0, 0, 0, 0, 0,\n",
       "       0, 0, 0, 0, 0, 0, 0, 0, 0, 0, 0, 0, 0, 0, 0, 0, 0, 0, 0, 0, 0, 0,\n",
       "       0, 0, 0, 0, 0, 0, 0, 0, 0, 0, 0, 0, 0, 0, 0, 0, 0, 0, 0, 0, 0, 0,\n",
       "       0, 0, 0, 0, 0, 0, 0, 0, 0, 0, 0, 0, 0, 0, 0, 0, 0, 0, 0, 0, 0, 0,\n",
       "       0, 0, 0], dtype=int64)"
      ]
     },
     "execution_count": 93,
     "metadata": {},
     "output_type": "execute_result"
    }
   ],
   "source": [
    "clf.predict(X_test)"
   ]
  },
  {
   "cell_type": "code",
   "execution_count": 94,
   "metadata": {},
   "outputs": [
    {
     "name": "stdout",
     "output_type": "stream",
     "text": [
      "Accuracy of logistic regression classifier on test set: 0.80\n"
     ]
    }
   ],
   "source": [
    "print('Accuracy of logistic regression classifier on test set: {:.2f}'.format(clf.score(X_test, y_test)))"
   ]
  },
  {
   "cell_type": "code",
   "execution_count": 96,
   "metadata": {},
   "outputs": [
    {
     "data": {
      "image/png": "[encoded data removed]",
      "text/plain": [
       "<Figure size 432x288 with 1 Axes>"
      ]
     },
     "metadata": {
      "needs_background": "light"
     },
     "output_type": "display_data"
    }
   ],
   "source": [
    "import pandas as pd\n",
    "import numpy as np\n",
    "from sklearn import preprocessing\n",
    "import matplotlib.pyplot as plt \n",
    "from sklearn.metrics import roc_auc_score\n",
    "from sklearn.metrics import roc_curve\n",
    "logit_roc_auc = roc_auc_score(y_test, clf.predict(X_test))\n",
    "fpr, tpr, thresholds = roc_curve(y_test, clf.predict_proba(X_test)[:,1])\n",
    "plt.figure()\n",
    "plt.plot(fpr, tpr, label='Logistic Regression (area = %0.2f)' % logit_roc_auc)\n",
    "plt.plot([0, 1], [0, 1],'r--')\n",
    "plt.xlim([0.0, 1.0])\n",
    "plt.ylim([0.0, 1.05])\n",
    "plt.xlabel('False Positive Rate')\n",
    "plt.ylabel('True Positive Rate')\n",
    "plt.title('Receiver operating characteristic')\n",
    "plt.legend(loc=\"lower right\")\n",
    "plt.savefig('Log_ROC')\n",
    "plt.show()"
   ]
  },
  {
   "cell_type": "code",
   "execution_count": 100,
   "metadata": {},
   "outputs": [
    {
     "name": "stdout",
     "output_type": "stream",
     "text": [
      "Accuracy of logistic regression classifier on test set: 0.80\n"
     ]
    }
   ],
   "source": [
    "y_pred = clf.predict(X_test)\n",
    "print('Accuracy of logistic regression classifier on test set: {:.2f}'.format(clf.score(X_test, y_test)))"
   ]
  },
  {
   "cell_type": "code",
   "execution_count": 101,
   "metadata": {},
   "outputs": [
    {
     "name": "stdout",
     "output_type": "stream",
     "text": [
      "[[407   0]\n",
      " [102   0]]\n"
     ]
    }
   ],
   "source": [
    "from sklearn.metrics import confusion_matrix\n",
    "confusion_matrix = confusion_matrix(y_test, y_pred)\n",
    "print(confusion_matrix)"
   ]
  },
  {
   "cell_type": "code",
   "execution_count": 102,
   "metadata": {},
   "outputs": [
    {
     "name": "stdout",
     "output_type": "stream",
     "text": [
      "              precision    recall  f1-score   support\n",
      "\n",
      "           0       0.80      1.00      0.89       407\n",
      "           1       0.00      0.00      0.00       102\n",
      "\n",
      "    accuracy                           0.80       509\n",
      "   macro avg       0.40      0.50      0.44       509\n",
      "weighted avg       0.64      0.80      0.71       509\n",
      "\n"
     ]
    },
    {
     "name": "stderr",
     "output_type": "stream",
     "text": [
      "C:\\Users\\coconut\\anaconda3\\lib\\site-packages\\sklearn\\metrics\\_classification.py:1221: UndefinedMetricWarning: Precision and F-score are ill-defined and being set to 0.0 in labels with no predicted samples. Use `zero_division` parameter to control this behavior.\n",
      "  _warn_prf(average, modifier, msg_start, len(result))\n"
     ]
    }
   ],
   "source": [
    "from sklearn.metrics import classification_report\n",
    "print(classification_report(y_test, y_pred))"
   ]
  },
  {
   "cell_type": "code",
   "execution_count": 107,
   "metadata": {},
   "outputs": [
    {
     "name": "stdout",
     "output_type": "stream",
     "text": [
      "Optimization terminated successfully.\n",
      "         Current function value: 0.525785\n",
      "         Iterations 6\n",
      "                          Results: Logit\n",
      "===================================================================\n",
      "Model:               Logit             Pseudo R-squared:  -0.028   \n",
      "Dependent Variable:  winner            AIC:               1256.2145\n",
      "Date:                2021-07-28 01:21  BIC:               1276.5313\n",
      "No. Observations:    1187              Log-Likelihood:    -624.11  \n",
      "Df Model:            3                 LL-Null:           -607.05  \n",
      "Df Residuals:        1183              LLR p-value:       1.0000   \n",
      "Converged:           1.0000            Scale:             1.0000   \n",
      "No. Iterations:      6.0000                                        \n",
      "-------------------------------------------------------------------\n",
      "                     Coef.  Std.Err.    z    P>|z|   [0.025  0.975]\n",
      "-------------------------------------------------------------------\n",
      "gender              -0.1661   0.1467 -1.1321 0.2576 -0.4536  0.1214\n",
      "ceremonyAge         -0.0263   0.0038 -6.9115 0.0000 -0.0337 -0.0188\n",
      "num_times_nominated -0.0943   0.0277 -3.4094 0.0007 -0.1485 -0.0401\n",
      "degree               0.0064   0.0029  2.1864 0.0288  0.0007  0.0122\n",
      "===================================================================\n",
      "\n",
      "Optimization terminated successfully.\n",
      "         Current function value: 0.522136\n",
      "         Iterations 5\n",
      "                          Results: Logit\n",
      "===================================================================\n",
      "Model:               Logit             Pseudo R-squared:  -0.027   \n",
      "Dependent Variable:  winner            AIC:               1779.0868\n",
      "Date:                2021-07-28 01:21  BIC:               1800.8309\n",
      "No. Observations:    1696              Log-Likelihood:    -885.54  \n",
      "Df Model:            3                 LL-Null:           -862.09  \n",
      "Df Residuals:        1692              LLR p-value:       1.0000   \n",
      "Converged:           1.0000            Scale:             1.0000   \n",
      "No. Iterations:      5.0000                                        \n",
      "-------------------------------------------------------------------\n",
      "                     Coef.  Std.Err.    z    P>|z|   [0.025  0.975]\n",
      "-------------------------------------------------------------------\n",
      "gender              -0.1408   0.1226 -1.1489 0.2506 -0.3811  0.0994\n",
      "ceremonyAge         -0.0305   0.0032 -9.4408 0.0000 -0.0368 -0.0241\n",
      "num_times_nominated -0.0586   0.0216 -2.7137 0.0067 -0.1010 -0.0163\n",
      "degree               0.0071   0.0025  2.8608 0.0042  0.0022  0.0120\n",
      "===================================================================\n",
      "\n"
     ]
    }
   ],
   "source": [
    "import statsmodels.api as sm\n",
    "logit_model=sm.Logit(y_train,X_train)\n",
    "result=logit_model.fit()\n",
    "print(result.summary2())\n",
    "\n",
    "\n",
    "logit_model=sm.Logit(y,X)\n",
    "result=logit_model.fit()\n",
    "print(result.summary2())"
   ]
  },
  {
   "cell_type": "code",
   "execution_count": null,
   "metadata": {},
   "outputs": [],
   "source": []
  }
 ],
 "metadata": {
  "kernelspec": {
   "display_name": "Python 3",
   "language": "python",
   "name": "python3"
  },
  "language_info": {
   "codemirror_mode": {
    "name": "ipython",
    "version": 3
   },
   "file_extension": ".py",
   "mimetype": "text/x-python",
   "name": "python",
   "nbconvert_exporter": "python",
   "pygments_lexer": "ipython3",
   "version": "3.8.5"
  }
 },
 "nbformat": 4,
 "nbformat_minor": 4
}
