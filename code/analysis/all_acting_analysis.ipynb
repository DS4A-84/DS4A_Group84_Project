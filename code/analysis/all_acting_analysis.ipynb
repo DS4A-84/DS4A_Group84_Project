{
 "cells": [
  {
   "cell_type": "code",
   "execution_count": 16,
   "metadata": {},
   "outputs": [],
   "source": [
    "import pandas as pd\n",
    "from os import path\n",
    "import numpy as np"
   ]
  },
  {
   "cell_type": "code",
   "execution_count": 17,
   "metadata": {},
   "outputs": [],
   "source": [
    "all_acting_path = '../../data/imbd_data/all_acting.csv'\n",
    "all_acting_clean_path = '../../data/imbd_data/all_acting_clean.csv'"
   ]
  },
  {
   "cell_type": "code",
   "execution_count": 18,
   "metadata": {},
   "outputs": [],
   "source": [
    "def load_dataset(filepath):\n",
    "    df = pd.read_csv(filepath)\n",
    "    return df\n",
    "\n",
    "def write_to_csv(df,filepath):\n",
    "    '''\n",
    "    input: df - a pandas DataFrame\n",
    "           filepath - an output filepath as a string\n",
    "\n",
    "    writes to a csv file\n",
    "    in same diretory as this script\n",
    "\n",
    "    returns: nothing\n",
    "    '''\n",
    "    # if no csv exists\n",
    "    if not path.exists(filepath):\n",
    "        df.to_csv(filepath,index=False)\n",
    "    else:\n",
    "        df.to_csv(filepath, mode='a', header=False,index=False)"
   ]
  },
  {
   "cell_type": "code",
   "execution_count": 19,
   "metadata": {},
   "outputs": [
    {
     "name": "stderr",
     "output_type": "stream",
     "text": [
      "C:\\Users\\coconut\\anaconda3\\lib\\site-packages\\IPython\\core\\interactiveshell.py:3338: DtypeWarning: Columns (14,15) have mixed types.Specify dtype option on import or set low_memory=False.\n",
      "  if (await self.run_code(code, result,  async_=asy)):\n"
     ]
    },
    {
     "name": "stdout",
     "output_type": "stream",
     "text": [
      "      nconst     tconst          name  birthYear  deathYear profession  \\\n",
      "0  nm0000001  tt0025164  Fred Astaire       1899     1987.0      actor   \n",
      "\n",
      "       primaryTitle     originalTitle  film_year gender  age  degree  \\\n",
      "0  The Gay Divorcee  The Gay Divorcee       1934      M   35       3   \n",
      "\n",
      "   year_ceremony  ceremony category winner  num_times_nominated  \n",
      "0            NaN       NaN      NaN    NaN                  NaN  \n"
     ]
    }
   ],
   "source": [
    "# load dataset\n",
    "df = load_dataset(all_acting_path)\n",
    "print(df.head(1))"
   ]
  },
  {
   "cell_type": "code",
   "execution_count": 20,
   "metadata": {},
   "outputs": [],
   "source": [
    "categories_interest = ['ACTOR',\n",
    "                       'ACTRESS',\n",
    "                       'ACTOR IN A LEADING ROLE',\n",
    "                       'ACTRESS IN A LEADING ROLE',\n",
    "                       'ACTOR IN A SUPPORTING ROLE',\n",
    "                       'ACTRESS IN A SUPPORTING ROLE',float(\"NAN\")]\n",
    "\n",
    "# only include actors/actresses\n",
    "df = df[df['category'].isin(categories_interest)]"
   ]
  },
  {
   "cell_type": "code",
   "execution_count": 21,
   "metadata": {},
   "outputs": [
    {
     "name": "stdout",
     "output_type": "stream",
     "text": [
      "-61\n",
      "1955\n"
     ]
    }
   ],
   "source": [
    "print(min(df.age))\n",
    "print(max(df.age))\n",
    "#-61\n",
    "#1955"
   ]
  },
  {
   "cell_type": "code",
   "execution_count": 22,
   "metadata": {},
   "outputs": [
    {
     "name": "stdout",
     "output_type": "stream",
     "text": [
      "1896.0\n",
      "108\n",
      "78494\n"
     ]
    }
   ],
   "source": [
    "# because of errors in database we will use the age range from the 8 to 88 years old\n",
    "df = df[df.age >=1]\n",
    "df = df[df.deathYear >= df.film_year]\n",
    "print(min(df.deathYear))\n",
    "print(max(df.age))\n",
    "print(len(df.nconst.unique()))"
   ]
  },
  {
   "cell_type": "code",
   "execution_count": 23,
   "metadata": {},
   "outputs": [
    {
     "name": "stdout",
     "output_type": "stream",
     "text": [
      "nan\n",
      "nan\n",
      "1\n",
      "108\n"
     ]
    }
   ],
   "source": [
    "#remove people who have movies after death\n",
    "print(min(df.num_times_nominated))\n",
    "print(min(df.num_times_nominated))\n",
    "print(min(df.age))\n",
    "print(max(df.age))\n",
    "write_to_csv(df,all_acting_clean_path)"
   ]
  },
  {
   "cell_type": "code",
   "execution_count": null,
   "metadata": {},
   "outputs": [],
   "source": []
  },
  {
   "cell_type": "code",
   "execution_count": null,
   "metadata": {},
   "outputs": [],
   "source": []
  }
 ],
 "metadata": {
  "kernelspec": {
   "display_name": "Python 3",
   "language": "python",
   "name": "python3"
  },
  "language_info": {
   "codemirror_mode": {
    "name": "ipython",
    "version": 3
   },
   "file_extension": ".py",
   "mimetype": "text/x-python",
   "name": "python",
   "nbconvert_exporter": "python",
   "pygments_lexer": "ipython3",
   "version": "3.8.5"
  }
 },
 "nbformat": 4,
 "nbformat_minor": 4
}
