{
 "cells": [
  {
   "cell_type": "code",
   "execution_count": null,
   "metadata": {},
   "outputs": [],
   "source": [
    "import pandas as pd\n",
    "from os import path\n",
    "import numpy as np"
   ]
  },
  {
   "cell_type": "code",
   "execution_count": null,
   "metadata": {},
   "outputs": [],
   "source": [
    "all_acting_path = '../../data/imbd_data/all_acting.csv'\n",
    "all_acting_clean_path = '../../data/imbd_data/all_acting_clean.csv'"
   ]
  },
  {
   "cell_type": "code",
   "execution_count": null,
   "metadata": {},
   "outputs": [],
   "source": [
    "def load_dataset(filepath):\n",
    "    df = pd.read_csv(filepath)\n",
    "    return df\n",
    "\n",
    "def write_to_csv(df,filepath):\n",
    "    '''\n",
    "    input: df - a pandas DataFrame\n",
    "           filepath - an output filepath as a string\n",
    "\n",
    "    writes to a csv file\n",
    "    in same diretory as this script\n",
    "\n",
    "    returns: nothing\n",
    "    '''\n",
    "    # if no csv exists\n",
    "    if not path.exists(filepath):\n",
    "        df.to_csv(filepath,index=False)\n",
    "    else:\n",
    "        df.to_csv(filepath, mode='a', header=False,index=False)"
   ]
  },
  {
   "cell_type": "code",
   "execution_count": null,
   "metadata": {},
   "outputs": [],
   "source": [
    "# load dataset\n",
    "df = load_dataset(all_acting_path)\n",
    "print(df.head(1))"
   ]
  },
  {
   "cell_type": "code",
   "execution_count": null,
   "metadata": {},
   "outputs": [],
   "source": [
    "categories_interest = ['ACTOR',\n",
    "                       'ACTRESS',\n",
    "                       'ACTOR IN A LEADING ROLE',\n",
    "                       'ACTRESS IN A LEADING ROLE',\n",
    "                       'ACTOR IN A SUPPORTING ROLE',\n",
    "                       'ACTRESS IN A SUPPORTING ROLE',float(\"NAN\")]\n",
    "\n",
    "# only include actors/actresses\n",
    "df = df[df['category'].isin(categories_interest)]"
   ]
  },
  {
   "cell_type": "code",
   "execution_count": null,
   "metadata": {},
   "outputs": [],
   "source": [
    "print(min(df.age))\n",
    "print(max(df.age))\n",
    "#-61\n",
    "#1955"
   ]
  },
  {
   "cell_type": "code",
   "execution_count": null,
   "metadata": {},
   "outputs": [],
   "source": [
    "# because of errors in database we will use the age range from the 8 to 88 years old\n",
    "df = df[df.age >=1]\n",
    "df = df[df.age <=108]\n",
    "print(len(df.nconst.unique()))"
   ]
  },
  {
   "cell_type": "code",
   "execution_count": null,
   "metadata": {},
   "outputs": [],
   "source": [
    "#remove people who have movies after death\n",
    "print(min(df.num_times_nominated))\n",
    "print(min(df.num_times_nominated))\n",
    "print(min(df.age))\n",
    "print(max(df.age))\n",
    "write_to_csv(df,all_acting_clean_path)"
   ]
  }
 ],
 "metadata": {
  "kernelspec": {
   "display_name": "Python 3",
   "language": "python",
   "name": "python3"
  },
  "language_info": {
   "codemirror_mode": {
    "name": "ipython",
    "version": 3
   },
   "file_extension": ".py",
   "mimetype": "text/x-python",
   "name": "python",
   "nbconvert_exporter": "python",
   "pygments_lexer": "ipython3",
   "version": "3.8.5"
  }
 },
 "nbformat": 4,
 "nbformat_minor": 4
}
