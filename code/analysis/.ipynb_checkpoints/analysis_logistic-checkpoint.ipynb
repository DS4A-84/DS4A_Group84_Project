{
 "cells": [
  {
   "cell_type": "code",
   "execution_count": 331,
   "metadata": {},
   "outputs": [],
   "source": [
    "import pandas as pd\n",
    "from os import path\n",
    "import numpy as np\n",
    "import scipy\n",
    "from scipy import stats, optimize, interpolate\n",
    "from sklearn.feature_selection import RFE\n",
    "from sklearn.linear_model import LogisticRegression\n",
    "from sklearn.linear_model import LogisticRegression\n",
    "from sklearn.model_selection import train_test_split\n",
    "from sklearn import metrics\n",
    "\n",
    "from sklearn import preprocessing\n",
    "import matplotlib.pyplot as plt \n",
    "from sklearn.metrics import roc_auc_score\n",
    "from sklearn.metrics import roc_curve\n",
    "\n",
    "from sklearn.metrics import confusion_matrix\n",
    "from sklearn.metrics import classification_report\n",
    "import statsmodels.api as sm"
   ]
  },
  {
   "cell_type": "code",
   "execution_count": 332,
   "metadata": {},
   "outputs": [],
   "source": [
    "\n",
    "def load_dataset(filepath):\n",
    "    df = pd.read_csv(filepath)\n",
    "    return df\n",
    "\n",
    "def write_to_csv(df,filepath):\n",
    "    '''\n",
    "    input: df - a pandas DataFrame\n",
    "           filepath - an output filepath as a string\n",
    "\n",
    "    writes to a csv file\n",
    "    in same diretory as this script\n",
    "\n",
    "    returns: nothing\n",
    "    '''\n",
    "    # if no csv exists\n",
    "    if not path.exists(filepath):\n",
    "        df.to_csv(filepath,index=False)\n",
    "    else:\n",
    "        df.to_csv(filepath, mode='a', header=False,index=False)\n"
   ]
  },
  {
   "cell_type": "code",
   "execution_count": 333,
   "metadata": {},
   "outputs": [
    {
     "data": {
      "text/plain": [
       "'\\nhypothesis testing\\nage of women nominated vs overall age of women \\nage of women nominated vs age of women win\\n\\nnon-nominated vs nominated vs winner degree\\n\\nlogistic model\\n'"
      ]
     },
     "execution_count": 333,
     "metadata": {},
     "output_type": "execute_result"
    }
   ],
   "source": [
    "'''\n",
    "hypothesis testing\n",
    "age of women nominated vs overall age of women \n",
    "age of women nominated vs age of women win\n",
    "\n",
    "non-nominated vs nominated vs winner degree\n",
    "\n",
    "logistic model\n",
    "'''"
   ]
  },
  {
   "cell_type": "code",
   "execution_count": 334,
   "metadata": {},
   "outputs": [],
   "source": [
    "all_acting_clean_path = '../../data/imbd_data/all_acting_clean.csv'"
   ]
  },
  {
   "cell_type": "code",
   "execution_count": 335,
   "metadata": {},
   "outputs": [],
   "source": [
    "def load_dataset(filepath):\n",
    "    df = pd.read_csv(filepath)\n",
    "    return df\n",
    "\n",
    "def write_to_csv(df,filepath):\n",
    "    '''\n",
    "    input: df - a pandas DataFrame\n",
    "           filepath - an output filepath as a string\n",
    "\n",
    "    writes to a csv file\n",
    "    in same diretory as this script\n",
    "\n",
    "    returns: nothing\n",
    "    '''\n",
    "    # if no csv exists\n",
    "    if not path.exists(filepath):\n",
    "        df.to_csv(filepath,index=False)\n",
    "    else:\n",
    "        df.to_csv(filepath, mode='a', header=False,index=False)"
   ]
  },
  {
   "cell_type": "code",
   "execution_count": 336,
   "metadata": {},
   "outputs": [
    {
     "name": "stderr",
     "output_type": "stream",
     "text": [
      "C:\\Users\\coconut\\anaconda3\\lib\\site-packages\\IPython\\core\\interactiveshell.py:3338: DtypeWarning: Columns (14,15) have mixed types.Specify dtype option on import or set low_memory=False.\n",
      "  if (await self.run_code(code, result,  async_=asy)):\n"
     ]
    },
    {
     "name": "stdout",
     "output_type": "stream",
     "text": [
      "      nconst     tconst          name  birthYear  deathYear profession  \\\n",
      "0  nm0000001  tt0025164  Fred Astaire       1899     1987.0      actor   \n",
      "\n",
      "       primaryTitle     originalTitle  film_year gender  age  degree  \\\n",
      "0  The Gay Divorcee  The Gay Divorcee       1934      M   35       3   \n",
      "\n",
      "   year_ceremony  ceremony category winner  num_times_nominated  \n",
      "0            NaN       NaN      NaN    NaN                  NaN  \n"
     ]
    }
   ],
   "source": [
    "# load dataset\n",
    "df = load_dataset(all_acting_clean_path)\n",
    "print(df.head(1))\n"
   ]
  },
  {
   "cell_type": "code",
   "execution_count": 337,
   "metadata": {},
   "outputs": [
    {
     "name": "stdout",
     "output_type": "stream",
     "text": [
      "708\n",
      "553\n",
      "155\n",
      "656712\n",
      "1500940\n",
      "0\n",
      "708\n",
      "<class 'pandas.core.frame.DataFrame'>\n",
      "RangeIndex: 2157652 entries, 0 to 2157651\n",
      "Data columns (total 17 columns):\n",
      " #   Column               Dtype  \n",
      "---  ------               -----  \n",
      " 0   nconst               object \n",
      " 1   tconst               object \n",
      " 2   name                 object \n",
      " 3   birthYear            int64  \n",
      " 4   deathYear            float64\n",
      " 5   profession           object \n",
      " 6   primaryTitle         object \n",
      " 7   originalTitle        object \n",
      " 8   film_year            int64  \n",
      " 9   gender               object \n",
      " 10  age                  int64  \n",
      " 11  degree               int64  \n",
      " 12  year_ceremony        float64\n",
      " 13  ceremony             float64\n",
      " 14  category             object \n",
      " 15  winner               object \n",
      " 16  num_times_nominated  float64\n",
      "dtypes: float64(4), int64(4), object(9)\n",
      "memory usage: 279.8+ MB\n",
      "None\n"
     ]
    }
   ],
   "source": [
    "print(len(df[df.ceremony.notna()]))\n",
    "print(len(df[df.winner==False]))\n",
    "print(len(df[df.winner==True]))\n",
    "print(len(df[df.gender=='F']))\n",
    "print(len(df[df.gender=='M']))\n",
    "print(len(df[df.num_times_nominated>=1]))\n",
    "print(df.info())"
   ]
  },
  {
   "cell_type": "code",
   "execution_count": 340,
   "metadata": {},
   "outputs": [],
   "source": [
    "# Get data to compare\n",
    "\n",
    "# get non nominated \n",
    "F_non_nominated = df[(df.category.isna()) & (df.gender =='F')]\n",
    "M_non_nominated = df[(df.category.isna()) & (df.gender =='M')]\n",
    "non_nominated = df[df.category.isna()]\n",
    "\n",
    "# get nominated that did not win\n",
    "F_nominated_nowin = df[(df.category.notna()) & (df.gender =='F') & (df.winner == False)]\n",
    "M_nominated_nowin = df[(df.category.notna()) & (df.gender =='M') & (df.winner == False)]\n",
    "nominated_nowin = df[(df.category.notna()) & (df.winner == False)]\n",
    "\n",
    "# get nominated that won\n",
    "F_nominated_win = df[(df.category.notna()) & (df.gender =='F') & (df.winner == True)]\n",
    "M_nominated_win = df[(df.category.notna()) & (df.gender =='M') & (df.winner == True)]\n",
    "nominated_win = df[(df.category.notna()) & (df.winner == True)]"
   ]
  },
  {
   "cell_type": "code",
   "execution_count": 341,
   "metadata": {},
   "outputs": [
    {
     "name": "stdout",
     "output_type": "stream",
     "text": [
      "Age\n",
      "var\n",
      "266.5522527695297\n",
      "162.64037097654113\n",
      "254.8295081967213\n",
      "\n",
      "183.87648255203675\n",
      "170.73885483006964\n",
      "179.0697780828186\n",
      "\n",
      "175.6580902586682\n",
      "211.0943604667617\n",
      "230.7534981147884\n",
      "\n",
      "mean\n",
      "43.05805007799932\n",
      "39.17446808510638\n",
      "39.65573770491803\n",
      "\n",
      "46.175506888242005\n",
      "45.12264150943396\n",
      "49.51063829787234\n",
      "\n",
      "42.59493670886076\n",
      "45.22678103835797\n",
      "45.63225806451613\n",
      "t-test\n",
      "Ttest_indResult(statistic=4.6668609479295045, pvalue=5.146948087933675e-06)\n",
      "Ttest_indResult(statistic=-0.2180925995082944, pvalue=0.827905761522576)\n",
      "Ttest_indResult(statistic=1.4367151409697567, pvalue=0.1517846992571984)\n",
      "Ttest_indResult(statistic=-2.808026951682208, pvalue=0.005651119663406276)\n",
      "Ttest_indResult(statistic=4.668977614513097, pvalue=3.8045497924195786e-06)\n",
      "Ttest_indResult(statistic=-2.2598854635604515, pvalue=0.024790517590156342)\n"
     ]
    }
   ],
   "source": [
    "# Get variances\n",
    "print(\"Age\")\n",
    "print(\"var\")\n",
    "print(F_non_nominated.age.var())\n",
    "print(F_nominated_nowin.age.var())\n",
    "print(F_nominated_win.age.var())\n",
    "print()\n",
    "print(M_non_nominated.age.var())\n",
    "print(M_nominated_nowin.age.var())\n",
    "print(M_nominated_win.age.var())\n",
    "print()\n",
    "print(nominated_nowin.age.var())\n",
    "print(non_nominated.age.var())\n",
    "print(nominated_win.age.var())\n",
    "\n",
    "print()\n",
    "print(\"mean\")\n",
    "# Get means\n",
    "print(F_non_nominated.age.mean())\n",
    "print(F_nominated_nowin.age.mean())\n",
    "print(F_nominated_win.age.mean())\n",
    "print()\n",
    "print(M_non_nominated.age.mean())\n",
    "print(M_nominated_nowin.age.mean())\n",
    "print(M_nominated_win.age.mean())\n",
    "print()\n",
    "print(nominated_nowin.age.mean())\n",
    "print(non_nominated.age.mean())\n",
    "print(nominated_win.age.mean())\n",
    "\n",
    "print(\"t-test\")\n",
    "# female non-nominated age vs female nominated age, two tailed t test\n",
    "print(scipy.stats.ttest_ind(F_non_nominated.age, F_nominated_nowin.age,equal_var=False))\n",
    "# With a p-value of pvalue=5.146948087933675e-06 < 0.05, p-value is statistically significant\n",
    "# When looking between the mean ages of non-nominated and nominated actresses that didn't win\n",
    "# we can reject the null hypothesis that the true difference between these group means is zero\n",
    "\n",
    "# female nominated age vs female winner age, two tailed t test\n",
    "print(scipy.stats.ttest_ind(F_nominated_nowin.age, F_nominated_win.age,equal_var=False))\n",
    "# With a p-value of pvalue=0.827905761522576 > 0.05, p-value is not statistically significant\n",
    "# When looking between the mean ages of nominated actresses that didnt win and nominated actresses that won\n",
    "# we fail to reject the null hypothesis that the true difference between these group means is zero\n",
    "\n",
    "# male non-nominated age vs male nominated age, two tailed t test\n",
    "print(scipy.stats.ttest_ind(M_non_nominated.age, M_nominated_nowin.age,equal_var=False))\n",
    "# With a p-value of pvalue=0.1517846992571984 > 0.05, p-value is statistically significant\n",
    "# When looking between the mean ages of non-nominated and nominated actors that didn't win\n",
    "# we fail to reject the null hypothesis that the true difference between these group means is zero\n",
    "\n",
    "# male nominated age vs male win age, two tailed t test\n",
    "print(scipy.stats.ttest_ind(M_nominated_nowin.age, M_nominated_win.age,equal_var=False))\n",
    "# With a p-value of pvalue=0.005651119663406276 < 0.05, p-value is statistically significant\n",
    "# When looking between the mean ages of nominated actors that didnt win and nominated actors that won\n",
    "# we can reject the null hypothesis that the true difference between these group means is zero\n",
    "\n",
    "# all non_nominated age vs all nominated age, two tailed t test\n",
    "print(scipy.stats.ttest_ind(non_nominated.age, nominated_nowin.age,equal_var=False))\n",
    "# With a p-value of pvalue=3.8045497924195786e-06 < 0.05, p-value is statistically significant\n",
    "# When looking between the mean ages of non-nominated and nominated actors/actresses that didnt win\n",
    "# we can reject the null hypothesis that the true difference between these group means is zero\n",
    "\n",
    "# all nominated age vs all winner age, two tailed t test\n",
    "print(scipy.stats.ttest_ind(nominated_nowin.age, nominated_win.age,equal_var=False))\n",
    "# With a p-value of pvalue=0.024790517590156342 < 0.05, p-value is statistically significant\n",
    "# When looking between the mean ages of nominated and nominated actors/actresses that won\n",
    "# we can reject the null hypothesis that the true difference between these group means is zero"
   ]
  },
  {
   "cell_type": "code",
   "execution_count": 342,
   "metadata": {},
   "outputs": [
    {
     "name": "stdout",
     "output_type": "stream",
     "text": [
      "degree\n",
      "var\n",
      "6335.161601141182\n",
      "3745.1754137115868\n",
      "4219.362295081967\n",
      "\n",
      "13628.57309914145\n",
      "8325.272741701876\n",
      "12698.666323495774\n",
      "\n",
      "6631.1230246088535\n",
      "11523.079644709609\n",
      "10077.733556765816\n",
      "\n",
      "mean\n",
      "80.65200878711062\n",
      "77.37446808510639\n",
      "85.93442622950819\n",
      "\n",
      "103.86621709158376\n",
      "110.11949685534591\n",
      "142.37234042553192\n",
      "\n",
      "96.20433996383363\n",
      "96.80150991402651\n",
      "120.16129032258064\n",
      "t-test\n",
      "Ttest_indResult(statistic=0.8207567855535283, pvalue=0.4126191465168062)\n",
      "Ttest_indResult(statistic=-0.9278751313429546, pvalue=0.35596478696700407)\n",
      "Ttest_indResult(statistic=-1.221931507303604, pvalue=0.222640753346406)\n",
      "Ttest_indResult(statistic=-2.539733357772444, pvalue=0.012261173473140811)\n",
      "Ttest_indResult(statistic=0.17241309451208375, pvalue=0.8631759163657139)\n",
      "Ttest_indResult(statistic=-2.729991581539571, pvalue=0.006861115960748926)\n"
     ]
    }
   ],
   "source": [
    "# Get variances\n",
    "print(\"degree\")\n",
    "print(\"var\")\n",
    "print(F_non_nominated.degree.var())\n",
    "print(F_nominated_nowin.degree.var())\n",
    "print(F_nominated_win.degree.var())\n",
    "print()\n",
    "print(M_non_nominated.degree.var())\n",
    "print(M_nominated_nowin.degree.var())\n",
    "print(M_nominated_win.degree.var())\n",
    "print()\n",
    "print(nominated_nowin.degree.var())\n",
    "print(non_nominated.degree.var())\n",
    "print(nominated_win.degree.var())\n",
    "\n",
    "print()\n",
    "print(\"mean\")\n",
    "# Get means\n",
    "print(F_non_nominated.degree.mean())\n",
    "print(F_nominated_nowin.degree.mean())\n",
    "print(F_nominated_win.degree.mean())\n",
    "print()\n",
    "print(M_non_nominated.degree.mean())\n",
    "print(M_nominated_nowin.degree.mean())\n",
    "print(M_nominated_win.degree.mean())\n",
    "print()\n",
    "print(nominated_nowin.degree.mean())\n",
    "print(non_nominated.degree.mean())\n",
    "print(nominated_win.degree.mean())\n",
    "\n",
    "print(\"t-test\")\n",
    "# female non-nominated degree vs female nominated degree, two tailed t test\n",
    "print(scipy.stats.ttest_ind(F_non_nominated.degree, F_nominated_nowin.degree,equal_var=False))\n",
    "# With a p-value of pvalue=0.4126191465168062 > 0.05, p-value is not statistically significant\n",
    "# When looking between the means degree of non-nominated and nominated actresses that didnt win\n",
    "# we fail to reject the null hypothesis that the true difference between these group means is zero\n",
    "\n",
    "# female nominated degree vs female winner degree, two tailed t test\n",
    "print(scipy.stats.ttest_ind(F_nominated_nowin.degree, F_nominated_win.degree,equal_var=False))\n",
    "# With a p-value of pvalue=0.35596478696700407 > 0.05, p-value is not statistically significant\n",
    "# When looking between the means degree of nominated actresses that didnt win and nominated actresses that won\n",
    "# we fail to reject the null hypothesis that the true difference between these group means is zero\n",
    "\n",
    "# male non-nominated degree vs male nominated degree, two tailed t test\n",
    "print(scipy.stats.ttest_ind(M_non_nominated.degree, M_nominated_nowin.degree,equal_var=False))\n",
    "# With a p-value of pvalue=0.222640753346406 > 0.05, p-value is statistically significant\n",
    "# When looking between the means degree of non-nominated and nominated actors that didn't win\n",
    "# we fail to reject the null hypothesis that the true difference between these group means is zero\n",
    "\n",
    "# male nominated degree vs male win degree, two tailed t test\n",
    "print(scipy.stats.ttest_ind(M_nominated_nowin.degree, M_nominated_win.degree,equal_var=False))\n",
    "# With a p-value of pvalue=0.012261173473140811 < 0.05, p-value is statistically significant\n",
    "# When looking between the means degree of nominated actors that didnt win and nominated actors that won\n",
    "# we can reject the null hypothesis that the true difference between these group means is zero\n",
    "\n",
    "# all non_nominated degree vs all nominated degree, two tailed t test\n",
    "print(scipy.stats.ttest_ind(non_nominated.degree, nominated_nowin.degree,equal_var=False))\n",
    "# With a p-value of pvalue=0.8631759163657139 > 0.05, p-value is not statistically significant\n",
    "# When looking between the means degree of non-nominees and nominees that didn't win\n",
    "# we fail to reject the null hypothesis that the true difference between these group means is zero\n",
    "\n",
    "# all nominated degree vs all winner degree, two tailed t test\n",
    "print(scipy.stats.ttest_ind(nominated_nowin.degree, nominated_win.degree,equal_var=False))\n",
    "# With a p-value of pvalue=0.006861115960748926 < 0.05, p-value is statistically significant\n",
    "# When looking between the means degree of nominees that didn't win and nominees that won\n",
    "# we can reject the null hypothesis that the true difference between these group means is zero"
   ]
  },
  {
   "cell_type": "code",
   "execution_count": 314,
   "metadata": {},
   "outputs": [
    {
     "name": "stdout",
     "output_type": "stream",
     "text": [
      "13668563\n",
      "618\n",
      "5393084\n",
      "8276097\n",
      "13666278\n",
      "2903\n",
      "13666278\n",
      "2903\n"
     ]
    }
   ],
   "source": [
    "#select appropriate variables\n",
    "df = df[[\"gender\",\"age\",\"degree\",\"category\",\"winner\",\"num_times_nominated\"]]\n",
    "\n",
    "# turn label variables to integers\n",
    "df.loc[(df.winner == False),'winner']=0\n",
    "df.loc[(df.winner == True),'winner']=1\n",
    "df.loc[(df.winner.isna()),'winner']=0\n",
    "print(len(df[df.winner==0]))\n",
    "print(len(df[df.winner==1]))\n",
    "\n",
    "df.loc[(df.gender == 'F'),'gender']=0\n",
    "df.loc[(df.gender == 'M'),'gender']=1\n",
    "print(len(df[df.gender==0]))\n",
    "print(len(df[df.gender==1]))\n",
    "\n",
    "df.loc[(df.num_times_nominated.isna()),'num_times_nominated']=0\n",
    "print(len(df[df.num_times_nominated==0]))\n",
    "print(len(df[df.num_times_nominated>=1]))\n",
    "\n",
    "df.loc[(df.num_times_nominated==0),'nominated']=0\n",
    "df.loc[(df.num_times_nominated>=1),'nominated']=1\n",
    "print(len(df[df.nominated==0]))\n",
    "print(len(df[df.nominated==1]))\n",
    "\n",
    "# change types from float to int\n",
    "df.nominated = df.nominated.astype(int)\n",
    "df.num_times_nominated = df.num_times_nominated.astype(int)\n",
    "df.gender = df.gender.astype(int)\n",
    "df.winner = df.winner.astype(int)"
   ]
  },
  {
   "cell_type": "code",
   "execution_count": 315,
   "metadata": {},
   "outputs": [
    {
     "name": "stdout",
     "output_type": "stream",
     "text": [
      "<class 'pandas.core.frame.DataFrame'>\n",
      "RangeIndex: 13669181 entries, 0 to 13669180\n",
      "Data columns (total 7 columns):\n",
      " #   Column               Dtype \n",
      "---  ------               ----- \n",
      " 0   gender               int32 \n",
      " 1   age                  int64 \n",
      " 2   degree               int64 \n",
      " 3   category             object\n",
      " 4   winner               int32 \n",
      " 5   num_times_nominated  int32 \n",
      " 6   nominated            int32 \n",
      "dtypes: int32(4), int64(2), object(1)\n",
      "memory usage: 521.4+ MB\n",
      "None\n",
      "             gender           age        degree        winner  \\\n",
      "count  1.366918e+07  1.366918e+07  1.366918e+07  1.366918e+07   \n",
      "mean   6.054567e-01  4.042170e+01  9.046430e+01  4.521119e-05   \n",
      "std    4.887524e-01  1.441006e+01  1.162075e+02  6.723775e-03   \n",
      "min    0.000000e+00  1.000000e+00  0.000000e+00  0.000000e+00   \n",
      "25%    0.000000e+00  3.000000e+01  2.300000e+01  0.000000e+00   \n",
      "50%    1.000000e+00  3.900000e+01  5.600000e+01  0.000000e+00   \n",
      "75%    1.000000e+00  5.000000e+01  1.150000e+02  0.000000e+00   \n",
      "max    1.000000e+00  1.080000e+02  2.118000e+03  1.000000e+00   \n",
      "\n",
      "       num_times_nominated     nominated  \n",
      "count         1.366918e+07  1.366918e+07  \n",
      "mean          4.759612e-04  2.123756e-04  \n",
      "std           4.354152e-02  1.457156e-02  \n",
      "min           0.000000e+00  0.000000e+00  \n",
      "25%           0.000000e+00  0.000000e+00  \n",
      "50%           0.000000e+00  0.000000e+00  \n",
      "75%           0.000000e+00  0.000000e+00  \n",
      "max           2.100000e+01  1.000000e+00  \n"
     ]
    }
   ],
   "source": [
    "print(df.info())\n",
    "print(df.describe())"
   ]
  },
  {
   "cell_type": "code",
   "execution_count": 303,
   "metadata": {},
   "outputs": [
    {
     "name": "stdout",
     "output_type": "stream",
     "text": [
      "<class 'pandas.core.frame.DataFrame'>\n",
      "Int64Index: 2903 entries, 87 to 13517585\n",
      "Data columns (total 5 columns):\n",
      " #   Column               Non-Null Count  Dtype\n",
      "---  ------               --------------  -----\n",
      " 0   gender               2903 non-null   int32\n",
      " 1   age                  2903 non-null   int64\n",
      " 2   degree               2903 non-null   int64\n",
      " 3   winner               2903 non-null   int32\n",
      " 4   num_times_nominated  2903 non-null   int32\n",
      "dtypes: int32(3), int64(2)\n",
      "memory usage: 102.1 KB\n",
      "None\n",
      "Accuracy of logistic regression classifier on test set: 0.80\n"
     ]
    },
    {
     "data": {
      "image/png": "[encoded data removed]",
      "text/plain": [
       "<Figure size 432x288 with 1 Axes>"
      ]
     },
     "metadata": {
      "needs_background": "light"
     },
     "output_type": "display_data"
    },
    {
     "name": "stdout",
     "output_type": "stream",
     "text": [
      "              precision    recall  f1-score   support\n",
      "\n",
      "           0       0.80      1.00      0.89       696\n",
      "           1       0.00      0.00      0.00       175\n",
      "\n",
      "    accuracy                           0.80       871\n",
      "   macro avg       0.40      0.50      0.44       871\n",
      "weighted avg       0.64      0.80      0.71       871\n",
      "\n"
     ]
    },
    {
     "name": "stderr",
     "output_type": "stream",
     "text": [
      "C:\\Users\\coconut\\anaconda3\\lib\\site-packages\\sklearn\\metrics\\_classification.py:1221: UndefinedMetricWarning: Precision and F-score are ill-defined and being set to 0.0 in labels with no predicted samples. Use `zero_division` parameter to control this behavior.\n",
      "  _warn_prf(average, modifier, msg_start, len(result))\n"
     ]
    },
    {
     "ename": "TypeError",
     "evalue": "'numpy.ndarray' object is not callable",
     "output_type": "error",
     "traceback": [
      "\u001b[1;31m---------------------------------------------------------------------------\u001b[0m",
      "\u001b[1;31mTypeError\u001b[0m                                 Traceback (most recent call last)",
      "\u001b[1;32m<ipython-input-303-e4cbb8891cdd>\u001b[0m in \u001b[0;36m<module>\u001b[1;34m\u001b[0m\n\u001b[0;32m     37\u001b[0m \u001b[0my_pred\u001b[0m \u001b[1;33m=\u001b[0m \u001b[0mclf\u001b[0m\u001b[1;33m.\u001b[0m\u001b[0mpredict\u001b[0m\u001b[1;33m(\u001b[0m\u001b[0mX_test\u001b[0m\u001b[1;33m)\u001b[0m\u001b[1;33m\u001b[0m\u001b[1;33m\u001b[0m\u001b[0m\n\u001b[0;32m     38\u001b[0m \u001b[0mprint\u001b[0m\u001b[1;33m(\u001b[0m\u001b[0mclassification_report\u001b[0m\u001b[1;33m(\u001b[0m\u001b[0my_test\u001b[0m\u001b[1;33m,\u001b[0m \u001b[0my_pred\u001b[0m\u001b[1;33m)\u001b[0m\u001b[1;33m)\u001b[0m\u001b[1;33m\u001b[0m\u001b[1;33m\u001b[0m\u001b[0m\n\u001b[1;32m---> 39\u001b[1;33m \u001b[0mconfusion_matrix\u001b[0m \u001b[1;33m=\u001b[0m \u001b[0mconfusion_matrix\u001b[0m\u001b[1;33m(\u001b[0m\u001b[0my_test\u001b[0m\u001b[1;33m,\u001b[0m \u001b[0my_pred\u001b[0m\u001b[1;33m)\u001b[0m\u001b[1;33m\u001b[0m\u001b[1;33m\u001b[0m\u001b[0m\n\u001b[0m\u001b[0;32m     40\u001b[0m \u001b[0mprint\u001b[0m\u001b[1;33m(\u001b[0m\u001b[0mconfusion_matrix\u001b[0m\u001b[1;33m)\u001b[0m\u001b[1;33m\u001b[0m\u001b[1;33m\u001b[0m\u001b[0m\n\u001b[0;32m     41\u001b[0m \u001b[1;33m\u001b[0m\u001b[0m\n",
      "\u001b[1;31mTypeError\u001b[0m: 'numpy.ndarray' object is not callable"
     ]
    }
   ],
   "source": [
    "# LOGISTIC REGRESSION nominees\n",
    "\n",
    "# look at nominated and winners only\n",
    "df_nominees = df[df.nominated==1]\n",
    "df_nominees = df_nominees[[\"gender\",\"age\",\"degree\",\"winner\",\"num_times_nominated\"]]\n",
    "print(df_nominees.info())\n",
    "\n",
    "\n",
    "X = df_nominees[['gender','age','num_times_nominated','degree']]\n",
    "y = df_nominees['winner']\n",
    "\n",
    "\n",
    "# Divide test and train data\n",
    "X_train, X_test, y_train, y_test = train_test_split(X, y, test_size=0.3, random_state=0)\n",
    "\n",
    "# start logistic regrssion\n",
    "clf = LogisticRegression(random_state=0).fit(X_train, y_train)\n",
    "\n",
    "print('Accuracy of logistic regression classifier on test set: {:.2f}'.format(clf.score(X_test, y_test)))\n",
    "\n",
    "# ROC\n",
    "logit_roc_auc = roc_auc_score(y_test, clf.predict(X_test))\n",
    "fpr, tpr, thresholds = roc_curve(y_test, clf.predict_proba(X_test)[:,1])\n",
    "plt.figure()\n",
    "plt.plot(fpr, tpr, label='Logistic Regression (area = %0.2f)' % logit_roc_auc)\n",
    "plt.plot([0, 1], [0, 1],'r--')\n",
    "plt.xlim([0.0, 1.0])\n",
    "plt.ylim([0.0, 1.05])\n",
    "plt.xlabel('False Positive Rate')\n",
    "plt.ylabel('True Positive Rate')\n",
    "plt.title('Receiver operating characteristic')\n",
    "plt.legend(loc=\"lower right\")\n",
    "plt.savefig('Log_ROC')\n",
    "plt.show()\n",
    "\n",
    "\n",
    "y_pred = clf.predict(X_test)\n",
    "print(classification_report(y_test, y_pred))\n",
    "confusion_matrix = confusion_matrix(y_test, y_pred)\n",
    "print(confusion_matrix)\n",
    "\n",
    "\n",
    "#logistic regression model\n",
    "logit_model=sm.Logit(y_train,X_train)\n",
    "result=logit_model.fit()\n",
    "print(result.summary2())\n",
    "\n",
    "\n",
    "logit_model=sm.Logit(y,X)\n",
    "result=logit_model.fit()\n",
    "print(result.summary2())"
   ]
  },
  {
   "cell_type": "code",
   "execution_count": null,
   "metadata": {},
   "outputs": [],
   "source": []
  },
  {
   "cell_type": "code",
   "execution_count": 293,
   "metadata": {},
   "outputs": [
    {
     "name": "stdout",
     "output_type": "stream",
     "text": [
      "<class 'pandas.core.frame.DataFrame'>\n",
      "Int64Index: 13668563 entries, 0 to 13669180\n",
      "Data columns (total 4 columns):\n",
      " #   Column     Dtype\n",
      "---  ------     -----\n",
      " 0   gender     int32\n",
      " 1   age        int64\n",
      " 2   degree     int64\n",
      " 3   nominated  int32\n",
      "dtypes: int32(2), int64(2)\n",
      "memory usage: 417.1 MB\n",
      "None\n",
      "Accuracy of logistic regression classifier on test set: 1.00\n"
     ]
    },
    {
     "data": {
      "image/png": "[encoded data removed]",
      "text/plain": [
       "<Figure size 432x288 with 1 Axes>"
      ]
     },
     "metadata": {
      "needs_background": "light"
     },
     "output_type": "display_data"
    }
   ],
   "source": [
    "# LOGISTIC REGRESSION nominees nonwinners and non-nominees\n",
    "df_non_and_nominees = df[df.winner==0]\n",
    "df_non_and_nominees = df_non_and_nominees[[\"gender\",\"age\",\"degree\",\"nominated\"]]\n",
    "\n",
    "print(df_non_and_nominees.info())\n",
    "\n",
    "\n",
    "X = df_non_and_nominees[[\"gender\",\"age\",\"degree\"]]\n",
    "y = df_non_and_nominees['nominated']\n",
    "\n",
    "\n",
    "# Divide test and train data\n",
    "X_train, X_test, y_train, y_test = train_test_split(X, y, test_size=0.3, random_state=0)\n",
    "\n",
    "# start logistic regrssion\n",
    "clf = LogisticRegression(random_state=0).fit(X_train, y_train)\n",
    "\n",
    "print('Accuracy of logistic regression classifier on test set: {:.2f}'.format(clf.score(X_test, y_test)))\n",
    "\n",
    "# ROC\n",
    "logit_roc_auc = roc_auc_score(y_test, clf.predict(X_test))\n",
    "fpr, tpr, thresholds = roc_curve(y_test, clf.predict_proba(X_test)[:,1])\n",
    "plt.figure()\n",
    "plt.plot(fpr, tpr, label='Logistic Regression (area = %0.2f)' % logit_roc_auc)\n",
    "plt.plot([0, 1], [0, 1],'r--')\n",
    "plt.xlim([0.0, 1.0])\n",
    "plt.ylim([0.0, 1.05])\n",
    "plt.xlabel('False Positive Rate')\n",
    "plt.ylabel('True Positive Rate')\n",
    "plt.title('Receiver operating characteristic')\n",
    "plt.legend(loc=\"lower right\")\n",
    "plt.savefig('Log_ROC')\n",
    "plt.show()"
   ]
  },
  {
   "cell_type": "code",
   "execution_count": 294,
   "metadata": {},
   "outputs": [
    {
     "name": "stderr",
     "output_type": "stream",
     "text": [
      "C:\\Users\\coconut\\anaconda3\\lib\\site-packages\\sklearn\\metrics\\_classification.py:1221: UndefinedMetricWarning: Precision and F-score are ill-defined and being set to 0.0 in labels with no predicted samples. Use `zero_division` parameter to control this behavior.\n",
      "  _warn_prf(average, modifier, msg_start, len(result))\n"
     ]
    },
    {
     "name": "stdout",
     "output_type": "stream",
     "text": [
      "              precision    recall  f1-score   support\n",
      "\n",
      "           0       1.00      1.00      1.00   4099903\n",
      "           1       0.00      0.00      0.00       666\n",
      "\n",
      "    accuracy                           1.00   4100569\n",
      "   macro avg       0.50      0.50      0.50   4100569\n",
      "weighted avg       1.00      1.00      1.00   4100569\n",
      "\n"
     ]
    }
   ],
   "source": [
    "y_pred = clf.predict(X_test)\n",
    "print(classification_report(y_test, y_pred))\n"
   ]
  },
  {
   "cell_type": "code",
   "execution_count": 300,
   "metadata": {},
   "outputs": [
    {
     "name": "stdout",
     "output_type": "stream",
     "text": [
      "<class 'pandas.core.series.Series'>\n",
      "<class 'numpy.ndarray'>\n",
      "81657       0\n",
      "9408569     0\n",
      "11512910    0\n",
      "9359383     0\n",
      "117811      1\n",
      "           ..\n",
      "241         0\n",
      "38959       0\n",
      "72324       0\n",
      "82755       0\n",
      "327778      0\n",
      "Name: winner, Length: 871, dtype: int32\n"
     ]
    },
    {
     "ename": "TypeError",
     "evalue": "'numpy.ndarray' object is not callable",
     "output_type": "error",
     "traceback": [
      "\u001b[1;31m---------------------------------------------------------------------------\u001b[0m",
      "\u001b[1;31mTypeError\u001b[0m                                 Traceback (most recent call last)",
      "\u001b[1;32m<ipython-input-300-9d3c486aa416>\u001b[0m in \u001b[0;36m<module>\u001b[1;34m\u001b[0m\n\u001b[0;32m      2\u001b[0m \u001b[0mprint\u001b[0m\u001b[1;33m(\u001b[0m\u001b[0mtype\u001b[0m\u001b[1;33m(\u001b[0m\u001b[0my_pred\u001b[0m\u001b[1;33m)\u001b[0m\u001b[1;33m)\u001b[0m\u001b[1;33m\u001b[0m\u001b[1;33m\u001b[0m\u001b[0m\n\u001b[0;32m      3\u001b[0m \u001b[0mprint\u001b[0m\u001b[1;33m(\u001b[0m\u001b[0my_test\u001b[0m\u001b[1;33m)\u001b[0m\u001b[1;33m\u001b[0m\u001b[1;33m\u001b[0m\u001b[0m\n\u001b[1;32m----> 4\u001b[1;33m \u001b[0mconfusion_matrix\u001b[0m \u001b[1;33m=\u001b[0m \u001b[0mconfusion_matrix\u001b[0m\u001b[1;33m(\u001b[0m\u001b[0my_test\u001b[0m\u001b[1;33m,\u001b[0m \u001b[0my_pred\u001b[0m\u001b[1;33m)\u001b[0m\u001b[1;33m\u001b[0m\u001b[1;33m\u001b[0m\u001b[0m\n\u001b[0m\u001b[0;32m      5\u001b[0m \u001b[0mprint\u001b[0m\u001b[1;33m(\u001b[0m\u001b[0mconfusion_matrix\u001b[0m\u001b[1;33m)\u001b[0m\u001b[1;33m\u001b[0m\u001b[1;33m\u001b[0m\u001b[0m\n",
      "\u001b[1;31mTypeError\u001b[0m: 'numpy.ndarray' object is not callable"
     ]
    }
   ],
   "source": [
    "print(type(y_test))\n",
    "print(type(y_pred))\n",
    "print(y_test)\n",
    "confusion_matrix = confusion_matrix(y_test, y_pred)\n",
    "print(confusion_matrix)\n"
   ]
  },
  {
   "cell_type": "code",
   "execution_count": 304,
   "metadata": {},
   "outputs": [
    {
     "name": "stdout",
     "output_type": "stream",
     "text": [
      "Optimization terminated successfully.\n",
      "         Current function value: 0.540659\n",
      "         Iterations 5\n",
      "                          Results: Logit\n",
      "===================================================================\n",
      "Model:               Logit             Pseudo R-squared:  -0.031   \n",
      "Dependent Variable:  winner            AIC:               2205.2390\n",
      "Date:                2021-08-10 09:30  BIC:               2227.7061\n",
      "No. Observations:    2032              Log-Likelihood:    -1098.6  \n",
      "Df Model:            3                 LL-Null:           -1065.5  \n",
      "Df Residuals:        2028              LLR p-value:       1.0000   \n",
      "Converged:           1.0000            Scale:             1.0000   \n",
      "No. Iterations:      5.0000                                        \n",
      "-------------------------------------------------------------------\n",
      "                     Coef.  Std.Err.    z    P>|z|   [0.025  0.975]\n",
      "-------------------------------------------------------------------\n",
      "gender              -0.1744   0.1100 -1.5846 0.1131 -0.3901  0.0413\n",
      "age                 -0.0306   0.0033 -9.3442 0.0000 -0.0370 -0.0242\n",
      "num_times_nominated -0.0841   0.0347 -2.4235 0.0154 -0.1520 -0.0161\n",
      "degree               0.0041   0.0008  5.4038 0.0000  0.0026  0.0056\n",
      "===================================================================\n",
      "\n",
      "Optimization terminated successfully.\n",
      "         Current function value: 0.532508\n",
      "         Iterations 6\n",
      "                           Results: Logit\n",
      "====================================================================\n",
      "Model:                Logit             Pseudo R-squared:  -0.028   \n",
      "Dependent Variable:   winner            AIC:               3099.7387\n",
      "Date:                 2021-08-10 09:30  BIC:               3123.6327\n",
      "No. Observations:     2903              Log-Likelihood:    -1545.9  \n",
      "Df Model:             3                 LL-Null:           -1503.0  \n",
      "Df Residuals:         2899              LLR p-value:       1.0000   \n",
      "Converged:            1.0000            Scale:             1.0000   \n",
      "No. Iterations:       6.0000                                        \n",
      "--------------------------------------------------------------------\n",
      "                     Coef.  Std.Err.    z     P>|z|   [0.025  0.975]\n",
      "--------------------------------------------------------------------\n",
      "gender              -0.1312   0.0932  -1.4073 0.1593 -0.3138  0.0515\n",
      "age                 -0.0303   0.0027 -11.0845 0.0000 -0.0356 -0.0249\n",
      "num_times_nominated -0.1036   0.0295  -3.5088 0.0005 -0.1615 -0.0457\n",
      "degree               0.0038   0.0006   6.0645 0.0000  0.0026  0.0051\n",
      "====================================================================\n",
      "\n"
     ]
    }
   ],
   "source": [
    "#logistic regression model\n",
    "logit_model=sm.Logit(y_train,X_train)\n",
    "result=logit_model.fit()\n",
    "print(result.summary2())\n",
    "\n",
    "\n",
    "logit_model=sm.Logit(y,X)\n",
    "result=logit_model.fit()\n",
    "print(result.summary2())"
   ]
  },
  {
   "cell_type": "code",
   "execution_count": null,
   "metadata": {},
   "outputs": [],
   "source": []
  }
 ],
 "metadata": {
  "kernelspec": {
   "display_name": "Python 3",
   "language": "python",
   "name": "python3"
  },
  "language_info": {
   "codemirror_mode": {
    "name": "ipython",
    "version": 3
   },
   "file_extension": ".py",
   "mimetype": "text/x-python",
   "name": "python",
   "nbconvert_exporter": "python",
   "pygments_lexer": "ipython3",
   "version": "3.8.5"
  }
 },
 "nbformat": 4,
 "nbformat_minor": 4
}
